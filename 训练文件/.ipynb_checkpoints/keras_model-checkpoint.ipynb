{
 "cells": [
  {
   "cell_type": "code",
   "execution_count": 1,
   "metadata": {
    "colab": {
     "base_uri": "https://localhost:8080/"
    },
    "id": "30892b8c",
    "outputId": "cdda9887-9a0e-44f5-d3bc-ce81483513bb"
   },
   "outputs": [
    {
     "name": "stdout",
     "output_type": "stream",
     "text": [
      "Mounted at /content/drive\n"
     ]
    }
   ],
   "source": [
    "from google.colab import drive\n",
    "drive.mount('/content/drive')"
   ]
  },
  {
   "cell_type": "code",
   "execution_count": null,
   "metadata": {
    "id": "9uBpy8JmgGyF"
   },
   "outputs": [],
   "source": [
    "import warnings\n",
    "warnings.filterwarnings(\"ignore\") "
   ]
  },
  {
   "cell_type": "code",
   "execution_count": 2,
   "metadata": {
    "id": "asfm4JdkZMrr"
   },
   "outputs": [],
   "source": [
    "import jieba\n",
    "import numpy as np\n",
    "import pandas as pd\n",
    "import matplotlib.pyplot as plt\n",
    "\n",
    "from keras.preprocessing.text import Tokenizer\n",
    "from keras.utils import pad_sequences\n",
    "from sklearn.model_selection import train_test_split\n",
    "from sklearn.preprocessing import LabelEncoder\n",
    "from keras.layers import Input, Embedding, LSTM, Bidirectional, Dense, Attention\n",
    "from keras.models import Model\n",
    "from keras.models import Sequential\n",
    "from keras.utils import to_categorical\n",
    "import tensorflow as tf\n",
    "from keras.layers import Conv1D, MaxPooling1D, Flatten, Embedding\n"
   ]
  },
  {
   "cell_type": "code",
   "execution_count": null,
   "metadata": {
    "id": "VOzKsHH9ZL8z"
   },
   "outputs": [],
   "source": [
    "plt.rcParams[\"font.sans-serif\"] = [\"SimHei\"] # 解决中文字符乱码的问题\n",
    "plt.rcParams[\"axes.unicode_minus\"] = False # 正常显示负号"
   ]
  },
  {
   "cell_type": "code",
   "execution_count": 3,
   "metadata": {
    "id": "QEO38oJCrZJH"
   },
   "outputs": [],
   "source": [
    "# 读取数据\n",
    "df = pd.read_excel('/content/drive/MyDrive/ITproject/combine_df.xlsx')"
   ]
  },
  {
   "cell_type": "code",
   "execution_count": null,
   "metadata": {
    "colab": {
     "base_uri": "https://localhost:8080/",
     "height": 1000
    },
    "id": "7RLhdSMerbcc",
    "outputId": "4c29815e-33c1-46be-edf4-d3ee15e1bd72"
   },
   "outputs": [
    {
     "data": {
      "text/html": [
       "\n",
       "  <div id=\"df-fb32bbaf-ed15-4bc7-acdf-0d3f5ebb050f\">\n",
       "    <div class=\"colab-df-container\">\n",
       "      <div>\n",
       "<style scoped>\n",
       "    .dataframe tbody tr th:only-of-type {\n",
       "        vertical-align: middle;\n",
       "    }\n",
       "\n",
       "    .dataframe tbody tr th {\n",
       "        vertical-align: top;\n",
       "    }\n",
       "\n",
       "    .dataframe thead th {\n",
       "        text-align: right;\n",
       "    }\n",
       "</style>\n",
       "<table border=\"1\" class=\"dataframe\">\n",
       "  <thead>\n",
       "    <tr style=\"text-align: right;\">\n",
       "      <th></th>\n",
       "      <th>id</th>\n",
       "      <th>name</th>\n",
       "      <th>alias</th>\n",
       "      <th>actor</th>\n",
       "      <th>url</th>\n",
       "      <th>director_x</th>\n",
       "      <th>vote</th>\n",
       "      <th>des</th>\n",
       "      <th>label</th>\n",
       "      <th>year</th>\n",
       "      <th>rating</th>\n",
       "      <th>category</th>\n",
       "      <th>duration</th>\n",
       "      <th>tag</th>\n",
       "      <th>lables</th>\n",
       "    </tr>\n",
       "  </thead>\n",
       "  <tbody>\n",
       "    <tr>\n",
       "      <th>0</th>\n",
       "      <td>1</td>\n",
       "      <td>哈利·波特与阿兹卡班的囚徒</td>\n",
       "      <td>哈利波特3：阿兹卡班的逃犯(港/台) / 哈利·波特与阿兹卡班的逃犯 / 哈3</td>\n",
       "      <td>丹尼尔·雷德克里夫/艾玛·沃森/鲁伯特·格林特/加里·奥德曼/朱丽·沃特斯/邦妮·怀特/大卫...</td>\n",
       "      <td>http://127.0.0.1:5000/static/css/images/1.png</td>\n",
       "      <td>阿方索·卡隆</td>\n",
       "      <td>268467</td>\n",
       "      <td>哈利（丹尼尔·雷德克里夫）即将在霍格沃兹渡过第三个年头，此时在阿兹塔班却传出恶棍小天狼星（加...</td>\n",
       "      <td>哈利波特/魔幻/英国/HarryPotter/美国/奇幻/2004/成长</td>\n",
       "      <td>2004</td>\n",
       "      <td>8.5</td>\n",
       "      <td>剧情/奇幻/冒险</td>\n",
       "      <td>141</td>\n",
       "      <td>哈利波特/魔幻/英国/HarryPotter/美国/奇幻/2004/成长</td>\n",
       "      <td>882</td>\n",
       "    </tr>\n",
       "    <tr>\n",
       "      <th>1</th>\n",
       "      <td>2</td>\n",
       "      <td>霸王别姬</td>\n",
       "      <td>再见，我的妾</td>\n",
       "      <td>张国荣/张丰毅/巩俐/葛优/英达/蒋雯丽/吴大维/吕齐/雷汉/尹治/马明威/费振翔/智一桐/...</td>\n",
       "      <td>http://127.0.0.1:5000/static/css/images/2.png</td>\n",
       "      <td>陈凯歌</td>\n",
       "      <td>1167141</td>\n",
       "      <td>段小楼（张丰毅）与程蝶衣（张国荣）是一对打小一起长大的师兄弟，两人一个演生，一个饰旦，一向配...</td>\n",
       "      <td>经典/人性/文艺/爱情/人生/同志/剧情/文革</td>\n",
       "      <td>1993</td>\n",
       "      <td>9.6</td>\n",
       "      <td>剧情/爱情/同性</td>\n",
       "      <td>171</td>\n",
       "      <td>经典/人性/文艺/爱情/人生/同志/剧情/文革</td>\n",
       "      <td>811</td>\n",
       "    </tr>\n",
       "    <tr>\n",
       "      <th>2</th>\n",
       "      <td>3</td>\n",
       "      <td>青木瓜之味</td>\n",
       "      <td>番木瓜香 / 青木瓜的滋味</td>\n",
       "      <td>陈女燕溪/如琼/基奥·索万纳文</td>\n",
       "      <td>http://127.0.0.1:5000/static/css/images/3.png</td>\n",
       "      <td>陈英雄</td>\n",
       "      <td>41858</td>\n",
       "      <td>十岁时，梅（阮如琼 饰）被邻居送到西贡一大户人家当女佣。因为长得很像女主人死去的女儿，梅深受...</td>\n",
       "      <td>越南/陈英雄/文艺/越南电影/爱情/青木瓜之味/唯美/法国</td>\n",
       "      <td>1993</td>\n",
       "      <td>7.8</td>\n",
       "      <td>剧情/爱情/音乐</td>\n",
       "      <td>104</td>\n",
       "      <td>越南/陈英雄/文艺/越南电影/爱情/青木瓜之味/唯美/法国</td>\n",
       "      <td>291</td>\n",
       "    </tr>\n",
       "    <tr>\n",
       "      <th>3</th>\n",
       "      <td>4</td>\n",
       "      <td>乡愁</td>\n",
       "      <td>怀乡</td>\n",
       "      <td>奥列格·扬科夫斯基/厄兰·约瑟夫森/多美兹亚娜·佐丹奴/劳拉·德·马奇/德丽娅·布卡尔铎/米...</td>\n",
       "      <td>http://127.0.0.1:5000/static/css/images/4.png</td>\n",
       "      <td>安德烈·塔可夫斯基</td>\n",
       "      <td>17201</td>\n",
       "      <td>俄国诗人安德烈（奥列格·扬科夫斯基 Oleg Yankovsky 饰）在美丽的女翻译尤金伲亚...</td>\n",
       "      <td>塔可夫斯基/俄罗斯/苏联/意大利/AndreiTarkovsky/文艺/安德烈·塔可夫斯基/电影</td>\n",
       "      <td>1983</td>\n",
       "      <td>9.0</td>\n",
       "      <td>剧情</td>\n",
       "      <td>125</td>\n",
       "      <td>塔可夫斯基/俄罗斯/苏联/意大利/AndreiTarkovsky/文艺/安德烈·塔可夫斯基/电影</td>\n",
       "      <td>983</td>\n",
       "    </tr>\n",
       "    <tr>\n",
       "      <th>4</th>\n",
       "      <td>5</td>\n",
       "      <td>云上的日子</td>\n",
       "      <td>在云端上的情与欲</td>\n",
       "      <td>苏菲·玛索/约翰·马尔科维奇/芬妮·阿尔丹/切瑞拉·凯瑟莉/伊莲娜·雅各布/文森特·佩雷斯/...</td>\n",
       "      <td>http://127.0.0.1:5000/static/css/images/5.png</td>\n",
       "      <td>米开朗基罗·安东尼奥尼/维姆·文德斯</td>\n",
       "      <td>55519</td>\n",
       "      <td>1，费拿拉小镇，工程师斯瓦诺（Kim Rossi Stuart 饰）邂逅了女教师卡门（Iné...</td>\n",
       "      <td>法国/爱情/情色/意大利/文艺/欧洲/1995/剧情</td>\n",
       "      <td>1995</td>\n",
       "      <td>7.7</td>\n",
       "      <td>剧情/爱情/情色</td>\n",
       "      <td>105</td>\n",
       "      <td>法国/爱情/情色/意大利/文艺/欧洲/1995/剧情</td>\n",
       "      <td>57</td>\n",
       "    </tr>\n",
       "  </tbody>\n",
       "</table>\n",
       "</div>\n",
       "      <button class=\"colab-df-convert\" onclick=\"convertToInteractive('df-fb32bbaf-ed15-4bc7-acdf-0d3f5ebb050f')\"\n",
       "              title=\"Convert this dataframe to an interactive table.\"\n",
       "              style=\"display:none;\">\n",
       "        \n",
       "  <svg xmlns=\"http://www.w3.org/2000/svg\" height=\"24px\"viewBox=\"0 0 24 24\"\n",
       "       width=\"24px\">\n",
       "    <path d=\"M0 0h24v24H0V0z\" fill=\"none\"/>\n",
       "    <path d=\"M18.56 5.44l.94 2.06.94-2.06 2.06-.94-2.06-.94-.94-2.06-.94 2.06-2.06.94zm-11 1L8.5 8.5l.94-2.06 2.06-.94-2.06-.94L8.5 2.5l-.94 2.06-2.06.94zm10 10l.94 2.06.94-2.06 2.06-.94-2.06-.94-.94-2.06-.94 2.06-2.06.94z\"/><path d=\"M17.41 7.96l-1.37-1.37c-.4-.4-.92-.59-1.43-.59-.52 0-1.04.2-1.43.59L10.3 9.45l-7.72 7.72c-.78.78-.78 2.05 0 2.83L4 21.41c.39.39.9.59 1.41.59.51 0 1.02-.2 1.41-.59l7.78-7.78 2.81-2.81c.8-.78.8-2.07 0-2.86zM5.41 20L4 18.59l7.72-7.72 1.47 1.35L5.41 20z\"/>\n",
       "  </svg>\n",
       "      </button>\n",
       "      \n",
       "  <style>\n",
       "    .colab-df-container {\n",
       "      display:flex;\n",
       "      flex-wrap:wrap;\n",
       "      gap: 12px;\n",
       "    }\n",
       "\n",
       "    .colab-df-convert {\n",
       "      background-color: #E8F0FE;\n",
       "      border: none;\n",
       "      border-radius: 50%;\n",
       "      cursor: pointer;\n",
       "      display: none;\n",
       "      fill: #1967D2;\n",
       "      height: 32px;\n",
       "      padding: 0 0 0 0;\n",
       "      width: 32px;\n",
       "    }\n",
       "\n",
       "    .colab-df-convert:hover {\n",
       "      background-color: #E2EBFA;\n",
       "      box-shadow: 0px 1px 2px rgba(60, 64, 67, 0.3), 0px 1px 3px 1px rgba(60, 64, 67, 0.15);\n",
       "      fill: #174EA6;\n",
       "    }\n",
       "\n",
       "    [theme=dark] .colab-df-convert {\n",
       "      background-color: #3B4455;\n",
       "      fill: #D2E3FC;\n",
       "    }\n",
       "\n",
       "    [theme=dark] .colab-df-convert:hover {\n",
       "      background-color: #434B5C;\n",
       "      box-shadow: 0px 1px 3px 1px rgba(0, 0, 0, 0.15);\n",
       "      filter: drop-shadow(0px 1px 2px rgba(0, 0, 0, 0.3));\n",
       "      fill: #FFFFFF;\n",
       "    }\n",
       "  </style>\n",
       "\n",
       "      <script>\n",
       "        const buttonEl =\n",
       "          document.querySelector('#df-fb32bbaf-ed15-4bc7-acdf-0d3f5ebb050f button.colab-df-convert');\n",
       "        buttonEl.style.display =\n",
       "          google.colab.kernel.accessAllowed ? 'block' : 'none';\n",
       "\n",
       "        async function convertToInteractive(key) {\n",
       "          const element = document.querySelector('#df-fb32bbaf-ed15-4bc7-acdf-0d3f5ebb050f');\n",
       "          const dataTable =\n",
       "            await google.colab.kernel.invokeFunction('convertToInteractive',\n",
       "                                                     [key], {});\n",
       "          if (!dataTable) return;\n",
       "\n",
       "          const docLinkHtml = 'Like what you see? Visit the ' +\n",
       "            '<a target=\"_blank\" href=https://colab.research.google.com/notebooks/data_table.ipynb>data table notebook</a>'\n",
       "            + ' to learn more about interactive tables.';\n",
       "          element.innerHTML = '';\n",
       "          dataTable['output_type'] = 'display_data';\n",
       "          await google.colab.output.renderOutput(dataTable, element);\n",
       "          const docLink = document.createElement('div');\n",
       "          docLink.innerHTML = docLinkHtml;\n",
       "          element.appendChild(docLink);\n",
       "        }\n",
       "      </script>\n",
       "    </div>\n",
       "  </div>\n",
       "  "
      ],
      "text/plain": [
       "   id           name                                    alias  \\\n",
       "0   1  哈利·波特与阿兹卡班的囚徒  哈利波特3：阿兹卡班的逃犯(港/台) / 哈利·波特与阿兹卡班的逃犯 / 哈3   \n",
       "1   2           霸王别姬                                   再见，我的妾   \n",
       "2   3          青木瓜之味                            番木瓜香 / 青木瓜的滋味   \n",
       "3   4             乡愁                                       怀乡   \n",
       "4   5          云上的日子                                 在云端上的情与欲   \n",
       "\n",
       "                                               actor  \\\n",
       "0  丹尼尔·雷德克里夫/艾玛·沃森/鲁伯特·格林特/加里·奥德曼/朱丽·沃特斯/邦妮·怀特/大卫...   \n",
       "1  张国荣/张丰毅/巩俐/葛优/英达/蒋雯丽/吴大维/吕齐/雷汉/尹治/马明威/费振翔/智一桐/...   \n",
       "2                                    陈女燕溪/如琼/基奥·索万纳文   \n",
       "3  奥列格·扬科夫斯基/厄兰·约瑟夫森/多美兹亚娜·佐丹奴/劳拉·德·马奇/德丽娅·布卡尔铎/米...   \n",
       "4  苏菲·玛索/约翰·马尔科维奇/芬妮·阿尔丹/切瑞拉·凯瑟莉/伊莲娜·雅各布/文森特·佩雷斯/...   \n",
       "\n",
       "                                             url          director_x     vote  \\\n",
       "0  http://127.0.0.1:5000/static/css/images/1.png              阿方索·卡隆   268467   \n",
       "1  http://127.0.0.1:5000/static/css/images/2.png                 陈凯歌  1167141   \n",
       "2  http://127.0.0.1:5000/static/css/images/3.png                 陈英雄    41858   \n",
       "3  http://127.0.0.1:5000/static/css/images/4.png           安德烈·塔可夫斯基    17201   \n",
       "4  http://127.0.0.1:5000/static/css/images/5.png  米开朗基罗·安东尼奥尼/维姆·文德斯    55519   \n",
       "\n",
       "                                                 des  \\\n",
       "0  哈利（丹尼尔·雷德克里夫）即将在霍格沃兹渡过第三个年头，此时在阿兹塔班却传出恶棍小天狼星（加...   \n",
       "1  段小楼（张丰毅）与程蝶衣（张国荣）是一对打小一起长大的师兄弟，两人一个演生，一个饰旦，一向配...   \n",
       "2  十岁时，梅（阮如琼 饰）被邻居送到西贡一大户人家当女佣。因为长得很像女主人死去的女儿，梅深受...   \n",
       "3  俄国诗人安德烈（奥列格·扬科夫斯基 Oleg Yankovsky 饰）在美丽的女翻译尤金伲亚...   \n",
       "4  1，费拿拉小镇，工程师斯瓦诺（Kim Rossi Stuart 饰）邂逅了女教师卡门（Iné...   \n",
       "\n",
       "                                              label  year  rating  category  \\\n",
       "0              哈利波特/魔幻/英国/HarryPotter/美国/奇幻/2004/成长  2004     8.5  剧情/奇幻/冒险   \n",
       "1                           经典/人性/文艺/爱情/人生/同志/剧情/文革  1993     9.6  剧情/爱情/同性   \n",
       "2                     越南/陈英雄/文艺/越南电影/爱情/青木瓜之味/唯美/法国  1993     7.8  剧情/爱情/音乐   \n",
       "3  塔可夫斯基/俄罗斯/苏联/意大利/AndreiTarkovsky/文艺/安德烈·塔可夫斯基/电影  1983     9.0        剧情   \n",
       "4                        法国/爱情/情色/意大利/文艺/欧洲/1995/剧情  1995     7.7  剧情/爱情/情色   \n",
       "\n",
       "   duration                                               tag  lables  \n",
       "0       141              哈利波特/魔幻/英国/HarryPotter/美国/奇幻/2004/成长     882  \n",
       "1       171                           经典/人性/文艺/爱情/人生/同志/剧情/文革     811  \n",
       "2       104                     越南/陈英雄/文艺/越南电影/爱情/青木瓜之味/唯美/法国     291  \n",
       "3       125  塔可夫斯基/俄罗斯/苏联/意大利/AndreiTarkovsky/文艺/安德烈·塔可夫斯基/电影     983  \n",
       "4       105                        法国/爱情/情色/意大利/文艺/欧洲/1995/剧情      57  "
      ]
     },
     "execution_count": 7,
     "metadata": {},
     "output_type": "execute_result"
    }
   ],
   "source": [
    "df.head()"
   ]
  },
  {
   "cell_type": "markdown",
   "metadata": {
    "id": "l9Bg7pcU2FrA"
   },
   "source": [
    "**电影时长分布图**"
   ]
  },
  {
   "cell_type": "code",
   "execution_count": 70,
   "metadata": {
    "colab": {
     "base_uri": "https://localhost:8080/",
     "height": 892
    },
    "id": "_rkbePEi2B7f",
    "outputId": "84d563e7-8583-4ffb-873c-657096bf985c"
   },
   "outputs": [
    {
     "name": "stderr",
     "output_type": "stream",
     "text": [
      "/usr/local/lib/python3.10/dist-packages/IPython/core/pylabtools.py:151: UserWarning: Glyph 30005 (\\N{CJK UNIFIED IDEOGRAPH-7535}) missing from current font.\n",
      "  fig.canvas.print_figure(bytes_io, **kw)\n",
      "/usr/local/lib/python3.10/dist-packages/IPython/core/pylabtools.py:151: UserWarning: Glyph 24433 (\\N{CJK UNIFIED IDEOGRAPH-5F71}) missing from current font.\n",
      "  fig.canvas.print_figure(bytes_io, **kw)\n",
      "/usr/local/lib/python3.10/dist-packages/IPython/core/pylabtools.py:151: UserWarning: Glyph 26102 (\\N{CJK UNIFIED IDEOGRAPH-65F6}) missing from current font.\n",
      "  fig.canvas.print_figure(bytes_io, **kw)\n",
      "/usr/local/lib/python3.10/dist-packages/IPython/core/pylabtools.py:151: UserWarning: Glyph 38271 (\\N{CJK UNIFIED IDEOGRAPH-957F}) missing from current font.\n",
      "  fig.canvas.print_figure(bytes_io, **kw)\n",
      "/usr/local/lib/python3.10/dist-packages/IPython/core/pylabtools.py:151: UserWarning: Glyph 21344 (\\N{CJK UNIFIED IDEOGRAPH-5360}) missing from current font.\n",
      "  fig.canvas.print_figure(bytes_io, **kw)\n",
      "/usr/local/lib/python3.10/dist-packages/IPython/core/pylabtools.py:151: UserWarning: Glyph 27604 (\\N{CJK UNIFIED IDEOGRAPH-6BD4}) missing from current font.\n",
      "  fig.canvas.print_figure(bytes_io, **kw)\n"
     ]
    },
    {
     "data": {
      "image/png": "[encoded data removed]",
      "text/plain": [
       "<Figure size 800x800 with 1 Axes>"
      ]
     },
     "metadata": {},
     "output_type": "display_data"
    }
   ],
   "source": [
    "data = pd.cut(df[\"duration\"], [0,60,90,110,1000]).value_counts() # 数据离散化\n",
    "y = data.values\n",
    "y = y/sum(y) # 归一化，不进行的话系统会自动进行\n",
    "\n",
    "plt.figure(figsize = (8,8))\n",
    "plt.title(\"电影时长占比\",fontsize = 15)\n",
    "patches,l_text,p_text = plt.pie(y, labels = data.index, autopct = \"%.1f %%\", colors = \"bygr\", startangle = 90)\n",
    "\n",
    "for i in p_text: # 通过返回值设置饼图内部字体\n",
    "    i.set_size(15)\n",
    "    i.set_color('w')\n",
    "\n",
    "for i in l_text: # 通过返回值设置饼图外部字体\n",
    "    i.set_size(15)\n",
    "    i.set_color('r')\n",
    "    \n",
    "plt.legend() # 图例\n",
    "plt.show()"
   ]
  },
  {
   "cell_type": "code",
   "execution_count": null,
   "metadata": {
    "id": "dNt4mEMo2B_w"
   },
   "outputs": [],
   "source": []
  },
  {
   "cell_type": "markdown",
   "metadata": {
    "id": "TcvauyXm2WAk"
   },
   "source": [
    "### 电影评分分布图"
   ]
  },
  {
   "cell_type": "code",
   "execution_count": 71,
   "metadata": {
    "colab": {
     "base_uri": "https://localhost:8080/",
     "height": 675
    },
    "id": "nNuY5wSx2CEN",
    "outputId": "85e1bbef-e1e9-4ef1-a039-4dead9dfa3aa"
   },
   "outputs": [
    {
     "data": {
      "image/png": "[encoded data removed]",
      "text/plain": [
       "<Figure size 1600x800 with 1 Axes>"
      ]
     },
     "metadata": {},
     "output_type": "display_data"
    }
   ],
   "source": [
    "plt.figure(figsize = (16,8))\n",
    "plt.hist(df[\"rating\"], bins = 20, edgecolor = 'k',alpha = 0.5)\n",
    "plt.show()"
   ]
  },
  {
   "cell_type": "markdown",
   "metadata": {
    "id": "zbyuBtuj2Z0X"
   },
   "source": [
    "### 电影评分的双轴图"
   ]
  },
  {
   "cell_type": "code",
   "execution_count": 72,
   "metadata": {
    "colab": {
     "base_uri": "https://localhost:8080/",
     "height": 1000
    },
    "id": "b33LJDFR2CIv",
    "outputId": "16970191-c83b-4e6a-ecea-0cdae411ec67"
   },
   "outputs": [
    {
     "name": "stderr",
     "output_type": "stream",
     "text": [
      "/usr/local/lib/python3.10/dist-packages/IPython/core/pylabtools.py:151: UserWarning: Glyph 25968 (\\N{CJK UNIFIED IDEOGRAPH-6570}) missing from current font.\n",
      "  fig.canvas.print_figure(bytes_io, **kw)\n",
      "/usr/local/lib/python3.10/dist-packages/IPython/core/pylabtools.py:151: UserWarning: Glyph 37327 (\\N{CJK UNIFIED IDEOGRAPH-91CF}) missing from current font.\n",
      "  fig.canvas.print_figure(bytes_io, **kw)\n",
      "/usr/local/lib/python3.10/dist-packages/IPython/core/pylabtools.py:151: UserWarning: Glyph 27010 (\\N{CJK UNIFIED IDEOGRAPH-6982}) missing from current font.\n",
      "  fig.canvas.print_figure(bytes_io, **kw)\n",
      "/usr/local/lib/python3.10/dist-packages/IPython/core/pylabtools.py:151: UserWarning: Glyph 29575 (\\N{CJK UNIFIED IDEOGRAPH-7387}) missing from current font.\n",
      "  fig.canvas.print_figure(bytes_io, **kw)\n",
      "/usr/local/lib/python3.10/dist-packages/IPython/core/pylabtools.py:151: UserWarning: Glyph 20998 (\\N{CJK UNIFIED IDEOGRAPH-5206}) missing from current font.\n",
      "  fig.canvas.print_figure(bytes_io, **kw)\n",
      "/usr/local/lib/python3.10/dist-packages/IPython/core/pylabtools.py:151: UserWarning: Glyph 24067 (\\N{CJK UNIFIED IDEOGRAPH-5E03}) missing from current font.\n",
      "  fig.canvas.print_figure(bytes_io, **kw)\n",
      "/usr/local/lib/python3.10/dist-packages/IPython/core/pylabtools.py:151: UserWarning: Glyph 39057 (\\N{CJK UNIFIED IDEOGRAPH-9891}) missing from current font.\n",
      "  fig.canvas.print_figure(bytes_io, **kw)\n",
      "/usr/local/lib/python3.10/dist-packages/IPython/core/pylabtools.py:151: UserWarning: Glyph 22270 (\\N{CJK UNIFIED IDEOGRAPH-56FE}) missing from current font.\n",
      "  fig.canvas.print_figure(bytes_io, **kw)\n",
      "/usr/local/lib/python3.10/dist-packages/IPython/core/pylabtools.py:151: UserWarning: Glyph 35780 (\\N{CJK UNIFIED IDEOGRAPH-8BC4}) missing from current font.\n",
      "  fig.canvas.print_figure(bytes_io, **kw)\n"
     ]
    },
    {
     "data": {
      "image/png": "[encoded data removed]",
      "text/plain": [
       "<Figure size 1600x800 with 2 Axes>"
      ]
     },
     "metadata": {},
     "output_type": "display_data"
    }
   ],
   "source": [
    "from scipy.stats import norm # 获取正态分布密度函数\n",
    "fig = plt.figure(figsize = (16,8))\n",
    "ax1 = fig.add_subplot(111) # 确认子图\n",
    "\n",
    "n,bins,patches = ax1.hist(df[\"rating\"],bins = 100, color = 'm') # bins默认是10\n",
    "\n",
    "ax1.set_ylabel(\"电影数量\",fontsize = 15)\n",
    "ax1.set_xlabel(\"评分\",fontsize = 15)\n",
    "ax1.set_title(\"频率分布图\",fontsize = 20)\n",
    "\n",
    "#准备拟合\n",
    "y = norm.pdf(bins,df[\"rating\"].mean(),df[\"rating\"].std()) # bins,mu,sigma\n",
    "ax2 = ax1.twinx() # 双轴\n",
    "ax2.plot(bins,y,\"b--\")\n",
    "ax2.set_ylabel(\"概率分布\",fontsize = 15)\n",
    "plt.show()"
   ]
  },
  {
   "cell_type": "markdown",
   "metadata": {
    "id": "QpfB6wmb2hgM"
   },
   "source": [
    "### 根据电影时长和电影评分绘制散点图"
   ]
  },
  {
   "cell_type": "code",
   "execution_count": 73,
   "metadata": {
    "colab": {
     "base_uri": "https://localhost:8080/",
     "height": 863
    },
    "id": "RWpt3hS42CN6",
    "outputId": "8241d639-71c4-4e66-a32f-bd0a66dfe05c"
   },
   "outputs": [
    {
     "name": "stderr",
     "output_type": "stream",
     "text": [
      "/usr/local/lib/python3.10/dist-packages/IPython/core/pylabtools.py:151: UserWarning: Glyph 19982 (\\N{CJK UNIFIED IDEOGRAPH-4E0E}) missing from current font.\n",
      "  fig.canvas.print_figure(bytes_io, **kw)\n",
      "/usr/local/lib/python3.10/dist-packages/IPython/core/pylabtools.py:151: UserWarning: Glyph 25955 (\\N{CJK UNIFIED IDEOGRAPH-6563}) missing from current font.\n",
      "  fig.canvas.print_figure(bytes_io, **kw)\n",
      "/usr/local/lib/python3.10/dist-packages/IPython/core/pylabtools.py:151: UserWarning: Glyph 28857 (\\N{CJK UNIFIED IDEOGRAPH-70B9}) missing from current font.\n",
      "  fig.canvas.print_figure(bytes_io, **kw)\n"
     ]
    },
    {
     "data": {
      "image/png": "[encoded data removed]",
      "text/plain": [
       "<Figure size 1600x800 with 1 Axes>"
      ]
     },
     "metadata": {},
     "output_type": "display_data"
    }
   ],
   "source": [
    "x = df[\"duration\"][::100] \n",
    "y = df[\"rating\"][::100]  # 解决数据冗杂的问题\n",
    "\n",
    "plt.figure(figsize = (16,8))\n",
    "plt.scatter(x,y,color = 'c',marker = 'p',label = \"评分\")\n",
    "plt.xlim(1, 500)\n",
    "plt.xticks(range(1, 501, 50))\n",
    "plt.legend() # 图例\n",
    "plt.title(\"电影时长与评分散点图\",fontsize = 20)\n",
    "plt.xlabel(\"时长\",fontsize = 18)\n",
    "plt.ylabel(\"评分\",fontsize = 18)\n",
    "plt.show()"
   ]
  },
  {
   "cell_type": "markdown",
   "metadata": {
    "id": "CEMXe9HU2mSW"
   },
   "source": [
    "### 分析电影的类型"
   ]
  },
  {
   "cell_type": "code",
   "execution_count": 74,
   "metadata": {
    "id": "pqIN_fYP2CSt"
   },
   "outputs": [],
   "source": [
    "# 对电影类型进行切割\n",
    "movie_type = df['category'].str.split('/')\n",
    "# 将列表转为Series\n",
    "movie_type = movie_type.apply(pd.Series)\n",
    "movie_type.head()\n",
    "# 通过 unstack 函数将行旋转为列，重排数据：\n",
    "movie_type = movie_type.apply(pd.value_counts)\n",
    "movie_type.unstack()\n",
    "# 此时数据为Series,去掉空值,并通过reset_index()转化为Dataframe\n",
    "movie_type = movie_type.unstack().dropna().reset_index()\n",
    "movie_type.head()\n",
    "# 对电影类型汇总\n",
    "movie_type.columns =['level_0','type','counts']\n",
    "movie_type_m = movie_type.drop(['level_0'],axis=1).groupby('type').sum().sort_values(by=['counts'],ascending=False).reset_index()\n"
   ]
  },
  {
   "cell_type": "code",
   "execution_count": null,
   "metadata": {
    "id": "1c1RPbGi23Cp"
   },
   "outputs": [],
   "source": [
    "# 导入绘制树地图包\n",
    "import squarify\n",
    "# 导入绘制词云包\n",
    "import wordcloud  \n",
    "\n",
    "txt = ' '.join(movie_type_m['type'][:10])\n",
    "\n",
    "w=wordcloud.WordCloud(\n",
    "    width=2000,font_path=\"C:\\\\Windows\\\\Fonts\\\\simsun.ttc\",height=1500, background_color=\"white\"\n",
    ")\n",
    "w.generate(txt)\n",
    "plt.figure(figsize = (15,5))\n",
    "plt.imshow(w)\n",
    "plt.axis('off')\n",
    "plt.show()"
   ]
  },
  {
   "cell_type": "code",
   "execution_count": null,
   "metadata": {
    "id": "90WZYlay2CcP"
   },
   "outputs": [],
   "source": []
  },
  {
   "cell_type": "markdown",
   "metadata": {
    "id": "IsmU6aV93EXj"
   },
   "source": [
    "## 处理数据"
   ]
  },
  {
   "cell_type": "code",
   "execution_count": 22,
   "metadata": {
    "colab": {
     "base_uri": "https://localhost:8080/"
    },
    "id": "EEcGOe4FEmn_",
    "outputId": "7a5361f1-4fc7-4faf-f552-2f8c45497241"
   },
   "outputs": [
    {
     "data": {
      "text/plain": [
       "0         882\n",
       "1         811\n",
       "2         291\n",
       "3         983\n",
       "4          57\n",
       "         ... \n",
       "10777     129\n",
       "10778    1938\n",
       "10779    2004\n",
       "10780    1987\n",
       "10781     852\n",
       "Name: lables, Length: 10782, dtype: int64"
      ]
     },
     "execution_count": 22,
     "metadata": {},
     "output_type": "execute_result"
    }
   ],
   "source": [
    "df['lables']"
   ]
  },
  {
   "cell_type": "code",
   "execution_count": 23,
   "metadata": {
    "colab": {
     "base_uri": "https://localhost:8080/"
    },
    "id": "-3cfnwdptGf9",
    "outputId": "6e1301c6-0986-49f2-cc44-331cf5ef4c17"
   },
   "outputs": [
    {
     "data": {
      "text/plain": [
       "0"
      ]
     },
     "execution_count": 23,
     "metadata": {},
     "output_type": "execute_result"
    }
   ],
   "source": [
    "missing_values = df['lables'].isnull().sum()\n",
    "missing_values"
   ]
  },
  {
   "cell_type": "code",
   "execution_count": 24,
   "metadata": {
    "colab": {
     "base_uri": "https://localhost:8080/"
    },
    "id": "ob8i0QfwyG6w",
    "outputId": "df91905c-21df-47ff-bdc0-52b49f15da88"
   },
   "outputs": [
    {
     "data": {
      "text/plain": [
       "2498"
      ]
     },
     "execution_count": 24,
     "metadata": {},
     "output_type": "execute_result"
    }
   ],
   "source": [
    "df['lables'].nunique()"
   ]
  },
  {
   "cell_type": "code",
   "execution_count": 25,
   "metadata": {
    "id": "ugJNjvfAtNMu"
   },
   "outputs": [],
   "source": [
    "lables=df['lables']"
   ]
  },
  {
   "cell_type": "code",
   "execution_count": 36,
   "metadata": {
    "id": "W60D_ArmtQ9F"
   },
   "outputs": [],
   "source": [
    "# 中文分词\n",
    "movie_synopses = [' '.join(jieba.cut(s)) for s in df['des']]\n",
    "\n",
    "# 将电影简介转换成整数序列\n",
    "tokenizer = Tokenizer(num_words=1000)\n",
    "tokenizer.fit_on_texts(movie_synopses)\n",
    "sequences = tokenizer.texts_to_sequences(movie_synopses)\n",
    "\n",
    "# 对序列进行填充，以使它们具有相同的长度\n",
    "maxlen = 50\n",
    "padded_sequences = pad_sequences(sequences, maxlen=maxlen)"
   ]
  },
  {
   "cell_type": "code",
   "execution_count": 35,
   "metadata": {
    "colab": {
     "base_uri": "https://localhost:8080/"
    },
    "id": "T7DfW7Ngr7c9",
    "outputId": "9a2519c5-8071-414c-83f8-f277416fa99d"
   },
   "outputs": [
    {
     "data": {
      "text/plain": [
       "array([[  7,   2, 597, ...,   2, 171,   3],\n",
       "       [  1,  15,   1, ..., 170,  11,   3],\n",
       "       [160,  51, 161, ...,   2, 480,   3],\n",
       "       ...,\n",
       "       [  0,   0,   0, ...,   0,   0, 965],\n",
       "       [  8,   7,   1, ...,   8,   7,   3],\n",
       "       [246,  67, 941, ...,  10,   2,   3]], dtype=int32)"
      ]
     },
     "execution_count": 35,
     "metadata": {},
     "output_type": "execute_result"
    }
   ],
   "source": [
    "padded_sequences"
   ]
  },
  {
   "cell_type": "code",
   "execution_count": 37,
   "metadata": {
    "colab": {
     "base_uri": "https://localhost:8080/"
    },
    "id": "99ycf07L1feD",
    "outputId": "0a6ae315-96c7-43f7-fb75-798d9621dcd1",
    "scrolled": true
   },
   "outputs": [
    {
     "name": "stdout",
     "output_type": "stream",
     "text": [
      "Training set shapes:  (8625, 50) (8625,)\n",
      "Testing set shapes:  (2157, 50) (2157,)\n"
     ]
    }
   ],
   "source": [
    "from sklearn.model_selection import train_test_split\n",
    "\n",
    "# Split the data into training and testing sets\n",
    "X_train, X_test, y_train, y_test = train_test_split(padded_sequences, lables, test_size=0.2, random_state=42)\n",
    "\n",
    "print(\"Training set shapes: \", X_train.shape, y_train.shape)\n",
    "print(\"Testing set shapes: \", X_test.shape, y_test.shape)"
   ]
  },
  {
   "cell_type": "code",
   "execution_count": 38,
   "metadata": {
    "id": "BEfIiXYrwR3c"
   },
   "outputs": [],
   "source": [
    "y_train = to_categorical(y_train, num_classes=2500)\n",
    "y_test = to_categorical(y_test, num_classes=2500)"
   ]
  },
  {
   "cell_type": "code",
   "execution_count": 39,
   "metadata": {
    "id": "3TIMAIjg28UX"
   },
   "outputs": [],
   "source": [
    "lables = to_categorical(lables, num_classes=2500)"
   ]
  },
  {
   "cell_type": "code",
   "execution_count": 40,
   "metadata": {
    "id": "_6exxILkQuDd"
   },
   "outputs": [],
   "source": [
    "maxlen = 50  \n",
    "input_dim = 50000  \n",
    "output_dim = 2500 # 输出维度为整个数据集中的电影种类数"
   ]
  },
  {
   "cell_type": "markdown",
   "metadata": {
    "id": "HeLskffHZjmU"
   },
   "source": [
    "\n",
    "\n",
    "> **cnn模型**\n",
    "\n",
    "\n",
    "\n"
   ]
  },
  {
   "cell_type": "code",
   "execution_count": 41,
   "metadata": {
    "colab": {
     "base_uri": "https://localhost:8080/"
    },
    "id": "u9l_-C3kP2ys",
    "outputId": "aa1fc72c-7ac3-47ab-c17a-12cdcec57b37"
   },
   "outputs": [
    {
     "name": "stdout",
     "output_type": "stream",
     "text": [
      "Model: \"sequential\"\n",
      "_________________________________________________________________\n",
      " Layer (type)                Output Shape              Param #   \n",
      "=================================================================\n",
      " embedding (Embedding)       (None, 50, 128)           6400000   \n",
      "                                                                 \n",
      " conv1d (Conv1D)             (None, 48, 64)            24640     \n",
      "                                                                 \n",
      " max_pooling1d (MaxPooling1D  (None, 24, 64)           0         \n",
      " )                                                               \n",
      "                                                                 \n",
      " flatten (Flatten)           (None, 1536)              0         \n",
      "                                                                 \n",
      " dense (Dense)               (None, 2500)              3842500   \n",
      "                                                                 \n",
      "=================================================================\n",
      "Total params: 10,267,140\n",
      "Trainable params: 10,267,140\n",
      "Non-trainable params: 0\n",
      "_________________________________________________________________\n"
     ]
    }
   ],
   "source": [
    "# 定义模型\n",
    "model1 = Sequential()\n",
    "model1.add(Embedding(input_dim=input_dim, output_dim=128, input_length=maxlen))\n",
    "model1.add(Conv1D(filters=64, kernel_size=3, activation='relu'))\n",
    "model1.add(MaxPooling1D(pool_size=2))\n",
    "model1.add(Flatten())\n",
    "model1.add(Dense(units=output_dim, activation='softmax'))\n",
    "\n",
    "# 编译模型\n",
    "model1.compile(loss='categorical_crossentropy', optimizer='adam', metrics=['accuracy'])\n",
    "\n",
    "# 打印模型概要\n",
    "model1.summary()\n"
   ]
  },
  {
   "cell_type": "code",
   "execution_count": 42,
   "metadata": {
    "colab": {
     "base_uri": "https://localhost:8080/"
    },
    "id": "p9VOSYIfUAOh",
    "outputId": "0a4fb18a-d052-468a-904f-6ccc4a6131c0"
   },
   "outputs": [
    {
     "name": "stdout",
     "output_type": "stream",
     "text": [
      "Epoch 1/50\n",
      "1348/1348 [==============================] - 33s 22ms/step - loss: 7.5174 - accuracy: 0.0066\n",
      "Epoch 2/50\n",
      "1348/1348 [==============================] - 10s 7ms/step - loss: 6.5695 - accuracy: 0.0142\n",
      "Epoch 3/50\n",
      "1348/1348 [==============================] - 9s 7ms/step - loss: 4.4668 - accuracy: 0.2060\n",
      "Epoch 4/50\n",
      "1348/1348 [==============================] - 9s 6ms/step - loss: 2.3802 - accuracy: 0.5418\n",
      "Epoch 5/50\n",
      "1348/1348 [==============================] - 10s 7ms/step - loss: 1.4665 - accuracy: 0.7066\n",
      "Epoch 6/50\n",
      "1348/1348 [==============================] - 10s 7ms/step - loss: 1.0986 - accuracy: 0.7820\n",
      "Epoch 7/50\n",
      "1348/1348 [==============================] - 9s 6ms/step - loss: 0.9302 - accuracy: 0.8134\n",
      "Epoch 8/50\n",
      "1348/1348 [==============================] - 8s 6ms/step - loss: 0.8204 - accuracy: 0.8265\n",
      "Epoch 9/50\n",
      "1348/1348 [==============================] - 7s 5ms/step - loss: 0.7542 - accuracy: 0.8346\n",
      "Epoch 10/50\n",
      "1348/1348 [==============================] - 8s 6ms/step - loss: 0.6937 - accuracy: 0.8393\n",
      "Epoch 11/50\n",
      "1348/1348 [==============================] - 9s 6ms/step - loss: 0.6499 - accuracy: 0.8442\n",
      "Epoch 12/50\n",
      "1348/1348 [==============================] - 8s 6ms/step - loss: 0.6119 - accuracy: 0.8475\n",
      "Epoch 13/50\n",
      "1348/1348 [==============================] - 9s 6ms/step - loss: 0.5883 - accuracy: 0.8481\n",
      "Epoch 14/50\n",
      "1348/1348 [==============================] - 7s 5ms/step - loss: 0.5643 - accuracy: 0.8525\n",
      "Epoch 15/50\n",
      "1348/1348 [==============================] - 8s 6ms/step - loss: 0.5461 - accuracy: 0.8529\n",
      "Epoch 16/50\n",
      "1348/1348 [==============================] - 8s 6ms/step - loss: 0.5291 - accuracy: 0.8524\n",
      "Epoch 17/50\n",
      "1348/1348 [==============================] - 8s 6ms/step - loss: 0.5170 - accuracy: 0.8530\n",
      "Epoch 18/50\n",
      "1348/1348 [==============================] - 8s 6ms/step - loss: 0.5041 - accuracy: 0.8556\n",
      "Epoch 19/50\n",
      "1348/1348 [==============================] - 7s 6ms/step - loss: 0.4991 - accuracy: 0.8549\n",
      "Epoch 20/50\n",
      "1348/1348 [==============================] - 8s 6ms/step - loss: 0.4906 - accuracy: 0.8540\n",
      "Epoch 21/50\n",
      "1348/1348 [==============================] - 7s 5ms/step - loss: 0.4854 - accuracy: 0.8527\n",
      "Epoch 22/50\n",
      "1348/1348 [==============================] - 8s 6ms/step - loss: 0.4761 - accuracy: 0.8553\n",
      "Epoch 23/50\n",
      "1348/1348 [==============================] - 8s 6ms/step - loss: 0.4727 - accuracy: 0.8569\n",
      "Epoch 24/50\n",
      "1348/1348 [==============================] - 8s 6ms/step - loss: 0.4686 - accuracy: 0.8559\n",
      "Epoch 25/50\n",
      "1348/1348 [==============================] - 8s 6ms/step - loss: 0.4602 - accuracy: 0.8577\n",
      "Epoch 26/50\n",
      "1348/1348 [==============================] - 7s 6ms/step - loss: 0.4611 - accuracy: 0.8549\n",
      "Epoch 27/50\n",
      "1348/1348 [==============================] - 8s 6ms/step - loss: 0.4560 - accuracy: 0.8566\n",
      "Epoch 28/50\n",
      "1348/1348 [==============================] - 7s 5ms/step - loss: 0.4512 - accuracy: 0.8564\n",
      "Epoch 29/50\n",
      "1348/1348 [==============================] - 8s 6ms/step - loss: 0.4500 - accuracy: 0.8565\n",
      "Epoch 30/50\n",
      "1348/1348 [==============================] - 8s 6ms/step - loss: 0.4491 - accuracy: 0.8564\n",
      "Epoch 31/50\n",
      "1348/1348 [==============================] - 8s 6ms/step - loss: 0.4453 - accuracy: 0.8566\n",
      "Epoch 32/50\n",
      "1348/1348 [==============================] - 8s 6ms/step - loss: 0.4419 - accuracy: 0.8568\n",
      "Epoch 33/50\n",
      "1348/1348 [==============================] - 8s 6ms/step - loss: 0.4406 - accuracy: 0.8574\n",
      "Epoch 34/50\n",
      "1348/1348 [==============================] - 8s 6ms/step - loss: 0.4375 - accuracy: 0.8560\n",
      "Epoch 35/50\n",
      "1348/1348 [==============================] - 7s 6ms/step - loss: 0.4365 - accuracy: 0.8573\n",
      "Epoch 36/50\n",
      "1348/1348 [==============================] - 8s 6ms/step - loss: 0.4357 - accuracy: 0.8551\n",
      "Epoch 37/50\n",
      "1348/1348 [==============================] - 8s 6ms/step - loss: 0.4339 - accuracy: 0.8562\n",
      "Epoch 38/50\n",
      "1348/1348 [==============================] - 8s 6ms/step - loss: 0.4271 - accuracy: 0.8568\n",
      "Epoch 39/50\n",
      "1348/1348 [==============================] - 8s 6ms/step - loss: 0.4320 - accuracy: 0.8581\n",
      "Epoch 40/50\n",
      "1348/1348 [==============================] - 8s 6ms/step - loss: 0.4293 - accuracy: 0.8551\n",
      "Epoch 41/50\n",
      "1348/1348 [==============================] - 8s 6ms/step - loss: 0.4273 - accuracy: 0.8569\n",
      "Epoch 42/50\n",
      "1348/1348 [==============================] - 8s 6ms/step - loss: 0.4277 - accuracy: 0.8567\n",
      "Epoch 43/50\n",
      "1348/1348 [==============================] - 8s 6ms/step - loss: 0.4268 - accuracy: 0.8572\n",
      "Epoch 44/50\n",
      "1348/1348 [==============================] - 8s 6ms/step - loss: 0.4223 - accuracy: 0.8561\n",
      "Epoch 45/50\n",
      "1348/1348 [==============================] - 8s 6ms/step - loss: 0.4229 - accuracy: 0.8561\n",
      "Epoch 46/50\n",
      "1348/1348 [==============================] - 8s 6ms/step - loss: 0.4248 - accuracy: 0.8564\n",
      "Epoch 47/50\n",
      "1348/1348 [==============================] - 8s 6ms/step - loss: 0.4204 - accuracy: 0.8561\n",
      "Epoch 48/50\n",
      "1348/1348 [==============================] - 8s 6ms/step - loss: 0.4199 - accuracy: 0.8561\n",
      "Epoch 49/50\n",
      "1348/1348 [==============================] - 7s 6ms/step - loss: 0.4201 - accuracy: 0.8590\n",
      "Epoch 50/50\n",
      "1348/1348 [==============================] - 8s 6ms/step - loss: 0.4192 - accuracy: 0.8560\n"
     ]
    }
   ],
   "source": [
    "history1 = model1.fit(padded_sequences, lables, epochs=50, batch_size=8)"
   ]
  },
  {
   "cell_type": "code",
   "execution_count": 59,
   "metadata": {
    "id": "M-OZAbgfrE5q"
   },
   "outputs": [],
   "source": [
    "model1= load_model('/content/drive/MyDrive/ITproject/cnn_model.h5')"
   ]
  },
  {
   "cell_type": "code",
   "execution_count": 60,
   "metadata": {
    "colab": {
     "base_uri": "https://localhost:8080/"
    },
    "id": "ySyoK3kiUAbr",
    "outputId": "3c8f9f62-0e04-49e0-b44d-dbd8e2f7d439"
   },
   "outputs": [
    {
     "name": "stdout",
     "output_type": "stream",
     "text": [
      "[[2, 365]]\n",
      "1/1 [==============================] - 0s 58ms/step\n",
      "预测的电影为:\n",
      "7521     周六夜现场：科林·费尔斯/诺拉·琼斯\n",
      "8382                   带我回家\n",
      "8539               妄想学生会OAD\n",
      "9437             妖精的尾巴 OAD6\n",
      "9479          史上最强弟子兼一：美丽之翼\n",
      "10761     关于我转生变成史莱姆这档事 OAD\n",
      "Name: name, dtype: object 7521     ColinFirth/SNL/美国/喜剧/NorahJones/NBC/美剧/周六夜现场\n",
      "8382                   公路/美国/爱情/喜剧/美国电影/浪漫爱情轻喜剧/剧情/独立\n",
      "8539                    OAD/动画/日本/日本动画/搞笑/动漫/OVA/2011\n",
      "9437                  OAD/日本/动画/动漫/2013/日本动画/アニメ/日本动漫\n",
      "9479                    动漫/OVA/日本/日本动画/动画/OAD/2013/格斗\n",
      "10761         OAD/日本动画/日本/动画/动漫/2019/転生したらスライムだった件/冒险\n",
      "Name: label, dtype: object\n"
     ]
    }
   ],
   "source": [
    "# synopsis_model1 =str(df[df['id']==2]['des'])\n",
    "\n",
    "# print(df[df['id']==2]['label'])\n",
    "\n",
    "synopsis_model1='阿萨v自行车VS的发货问题'\n",
    "\n",
    "synopsis_model1 = ' '.join(jieba.cut(synopsis_model1))\n",
    "sequence_model1 = tokenizer.texts_to_sequences([synopsis_model1])\n",
    "print(sequence_model1)\n",
    "padded_sequence_model1 = pad_sequences(sequence_model1, maxlen=50)\n",
    "\n",
    "pred = model1.predict(padded_sequence_model1)\n",
    "\n",
    "pred_class = np.argmax(pred)\n",
    "\n",
    "predicted_label = df[df['lables'] == pred_class]\n",
    "\n",
    "print('预测的电影为:' )\n",
    "print(predicted_label['name'],predicted_label['label'])"
   ]
  },
  {
   "cell_type": "code",
   "execution_count": 55,
   "metadata": {
    "id": "0swqStDiP3Ca"
   },
   "outputs": [],
   "source": [
    "model1.save('/content/drive/MyDrive/ITproject/cnn_model.h5')"
   ]
  },
  {
   "cell_type": "code",
   "execution_count": null,
   "metadata": {
    "id": "JNWHoSCaT3DK"
   },
   "outputs": [],
   "source": []
  },
  {
   "cell_type": "code",
   "execution_count": 57,
   "metadata": {
    "colab": {
     "base_uri": "https://localhost:8080/"
    },
    "id": "7PP_qCMD0BKK",
    "outputId": "760840ba-87be-47eb-a2f0-c1e9db4b6c15"
   },
   "outputs": [
    {
     "name": "stdout",
     "output_type": "stream",
     "text": [
      "Model: \"sequential_1\"\n",
      "_________________________________________________________________\n",
      " Layer (type)                Output Shape              Param #   \n",
      "=================================================================\n",
      " embedding_1 (Embedding)     (None, 50, 128)           6400000   \n",
      "                                                                 \n",
      " lstm (LSTM)                 (None, 128)               131584    \n",
      "                                                                 \n",
      " dense_1 (Dense)             (None, 2500)              322500    \n",
      "                                                                 \n",
      "=================================================================\n",
      "Total params: 6,854,084\n",
      "Trainable params: 6,854,084\n",
      "Non-trainable params: 0\n",
      "_________________________________________________________________\n"
     ]
    }
   ],
   "source": [
    "# 定义模型\n",
    "model2 = Sequential()\n",
    "model2.add(Embedding(input_dim=input_dim, output_dim=128, input_length=maxlen))\n",
    "model2.add(LSTM(units=128))\n",
    "model2.add(Dense(units=2500, activation='softmax'))\n",
    "\n",
    "# 编译模型\n",
    "model2.compile(loss='categorical_crossentropy', optimizer='adam', metrics=['accuracy'])\n",
    "\n",
    "model2.summary()"
   ]
  },
  {
   "cell_type": "code",
   "execution_count": 61,
   "metadata": {
    "colab": {
     "base_uri": "https://localhost:8080/"
    },
    "id": "b22992f7",
    "outputId": "8d9f4bde-be83-41f9-eb6d-9c17cf4784f4",
    "scrolled": false
   },
   "outputs": [
    {
     "name": "stdout",
     "output_type": "stream",
     "text": [
      "Epoch 1/50\n",
      "1348/1348 [==============================] - 29s 19ms/step - loss: 7.5789 - accuracy: 0.0055\n",
      "Epoch 2/50\n",
      "1348/1348 [==============================] - 12s 9ms/step - loss: 7.1944 - accuracy: 0.0107\n",
      "Epoch 3/50\n",
      "1348/1348 [==============================] - 10s 8ms/step - loss: 6.9521 - accuracy: 0.0136\n",
      "Epoch 4/50\n",
      "1348/1348 [==============================] - 11s 8ms/step - loss: 6.6206 - accuracy: 0.0176\n",
      "Epoch 5/50\n",
      "1348/1348 [==============================] - 11s 8ms/step - loss: 6.1593 - accuracy: 0.0302\n",
      "Epoch 6/50\n",
      "1348/1348 [==============================] - 11s 8ms/step - loss: 5.6168 - accuracy: 0.0547\n",
      "Epoch 7/50\n",
      "1348/1348 [==============================] - 10s 7ms/step - loss: 5.0419 - accuracy: 0.1090\n",
      "Epoch 8/50\n",
      "1348/1348 [==============================] - 10s 8ms/step - loss: 4.4687 - accuracy: 0.1834\n",
      "Epoch 9/50\n",
      "1348/1348 [==============================] - 10s 8ms/step - loss: 3.9283 - accuracy: 0.2708\n",
      "Epoch 10/50\n",
      "1348/1348 [==============================] - 11s 8ms/step - loss: 3.4264 - accuracy: 0.3632\n",
      "Epoch 11/50\n",
      "1348/1348 [==============================] - 10s 7ms/step - loss: 2.9768 - accuracy: 0.4493\n",
      "Epoch 12/50\n",
      "1348/1348 [==============================] - 10s 7ms/step - loss: 2.5741 - accuracy: 0.5205\n",
      "Epoch 13/50\n",
      "1348/1348 [==============================] - 10s 8ms/step - loss: 2.2237 - accuracy: 0.5894\n",
      "Epoch 14/50\n",
      "1348/1348 [==============================] - 10s 8ms/step - loss: 1.9261 - accuracy: 0.6457\n",
      "Epoch 15/50\n",
      "1348/1348 [==============================] - 10s 7ms/step - loss: 1.6741 - accuracy: 0.6952\n",
      "Epoch 16/50\n",
      "1348/1348 [==============================] - 10s 8ms/step - loss: 1.4746 - accuracy: 0.7283\n",
      "Epoch 17/50\n",
      "1348/1348 [==============================] - 10s 8ms/step - loss: 1.3040 - accuracy: 0.7612\n",
      "Epoch 18/50\n",
      "1348/1348 [==============================] - 11s 8ms/step - loss: 1.1771 - accuracy: 0.7825\n",
      "Epoch 19/50\n",
      "1348/1348 [==============================] - 9s 7ms/step - loss: 1.0508 - accuracy: 0.8025\n",
      "Epoch 20/50\n",
      "1348/1348 [==============================] - 10s 8ms/step - loss: 0.9795 - accuracy: 0.8133\n",
      "Epoch 21/50\n",
      "1348/1348 [==============================] - 11s 8ms/step - loss: 0.9026 - accuracy: 0.8287\n",
      "Epoch 22/50\n",
      "1348/1348 [==============================] - 10s 8ms/step - loss: 0.8596 - accuracy: 0.8287\n",
      "Epoch 23/50\n",
      "1348/1348 [==============================] - 10s 7ms/step - loss: 0.8278 - accuracy: 0.8328\n",
      "Epoch 24/50\n",
      "1348/1348 [==============================] - 10s 8ms/step - loss: 0.7963 - accuracy: 0.8393\n",
      "Epoch 25/50\n",
      "1348/1348 [==============================] - 10s 8ms/step - loss: 0.7624 - accuracy: 0.8417\n",
      "Epoch 26/50\n",
      "1348/1348 [==============================] - 10s 7ms/step - loss: 0.7322 - accuracy: 0.8449\n",
      "Epoch 27/50\n",
      "1348/1348 [==============================] - 10s 7ms/step - loss: 0.7243 - accuracy: 0.8459\n",
      "Epoch 28/50\n",
      "1348/1348 [==============================] - 10s 8ms/step - loss: 0.7188 - accuracy: 0.8451\n",
      "Epoch 29/50\n",
      "1348/1348 [==============================] - 11s 8ms/step - loss: 0.7047 - accuracy: 0.8434\n",
      "Epoch 30/50\n",
      "1348/1348 [==============================] - 11s 8ms/step - loss: 0.7008 - accuracy: 0.8443\n",
      "Epoch 31/50\n",
      "1348/1348 [==============================] - 10s 7ms/step - loss: 0.6780 - accuracy: 0.8458\n",
      "Epoch 32/50\n",
      "1348/1348 [==============================] - 11s 8ms/step - loss: 0.6902 - accuracy: 0.8449\n",
      "Epoch 33/50\n",
      "1348/1348 [==============================] - 10s 8ms/step - loss: 0.6734 - accuracy: 0.8442\n",
      "Epoch 34/50\n",
      "1348/1348 [==============================] - 10s 8ms/step - loss: 0.6653 - accuracy: 0.8436\n",
      "Epoch 35/50\n",
      "1348/1348 [==============================] - 10s 7ms/step - loss: 0.6566 - accuracy: 0.8459\n",
      "Epoch 36/50\n",
      "1348/1348 [==============================] - 10s 8ms/step - loss: 0.6537 - accuracy: 0.8461\n",
      "Epoch 37/50\n",
      "1348/1348 [==============================] - 10s 8ms/step - loss: 0.6582 - accuracy: 0.8449\n",
      "Epoch 38/50\n",
      "1348/1348 [==============================] - 11s 8ms/step - loss: 0.6318 - accuracy: 0.8504\n",
      "Epoch 39/50\n",
      "1348/1348 [==============================] - 10s 7ms/step - loss: 0.6366 - accuracy: 0.8485\n",
      "Epoch 40/50\n",
      "1348/1348 [==============================] - 10s 8ms/step - loss: 0.6408 - accuracy: 0.8477\n",
      "Epoch 41/50\n",
      "1348/1348 [==============================] - 10s 8ms/step - loss: 0.6434 - accuracy: 0.8462\n",
      "Epoch 42/50\n",
      "1348/1348 [==============================] - 10s 7ms/step - loss: 0.6291 - accuracy: 0.8485\n",
      "Epoch 43/50\n",
      "1348/1348 [==============================] - 10s 7ms/step - loss: 0.6262 - accuracy: 0.8491\n",
      "Epoch 44/50\n",
      "1348/1348 [==============================] - 11s 8ms/step - loss: 0.6482 - accuracy: 0.8453\n",
      "Epoch 45/50\n",
      "1348/1348 [==============================] - 11s 8ms/step - loss: 0.6296 - accuracy: 0.8476\n",
      "Epoch 46/50\n",
      "1348/1348 [==============================] - 10s 7ms/step - loss: 0.6249 - accuracy: 0.8469\n",
      "Epoch 47/50\n",
      "1348/1348 [==============================] - 10s 7ms/step - loss: 0.6122 - accuracy: 0.8485\n",
      "Epoch 48/50\n",
      "1348/1348 [==============================] - 11s 8ms/step - loss: 0.6218 - accuracy: 0.8502\n",
      "Epoch 49/50\n",
      "1348/1348 [==============================] - 10s 8ms/step - loss: 0.6124 - accuracy: 0.8501\n",
      "Epoch 50/50\n",
      "1348/1348 [==============================] - 10s 7ms/step - loss: 0.6163 - accuracy: 0.8484\n"
     ]
    }
   ],
   "source": [
    "# 训练模型\n",
    "history = model2.fit(padded_sequences, lables, epochs=50, batch_size=8)"
   ]
  },
  {
   "cell_type": "code",
   "execution_count": 69,
   "metadata": {
    "id": "77DX4aTYYhso"
   },
   "outputs": [],
   "source": [
    "from keras.models import load_model\n",
    "model2= load_model('/content/drive/MyDrive/ITproject/lstm_model.h5')"
   ]
  },
  {
   "cell_type": "code",
   "execution_count": 66,
   "metadata": {
    "colab": {
     "base_uri": "https://localhost:8080/"
    },
    "id": "msFFJjFw7e2f",
    "outputId": "c0a0f793-c7e4-45cf-ca86-518b499bd2c6",
    "scrolled": false
   },
   "outputs": [
    {
     "name": "stdout",
     "output_type": "stream",
     "text": [
      "1/1 [==============================] - 0s 19ms/step\n",
      "预测的电影为:\n",
      "6407     世界奇妙物语 05秋之特別篇\n",
      "6410     世界奇妙物语 02春之特别篇\n",
      "6411    世界奇妙物语  99秋之特别篇\n",
      "6412     世界奇妙物语 98秋之特别篇\n",
      "6413     世界奇妙物语 96秋之特别篇\n",
      "6414     世界奇妙物语 95秋之特别篇\n",
      "6415     世界奇妙物语 95春之特别篇\n",
      "6416     世界奇妙物语 94秋之特别篇\n",
      "6417    世界奇妙物语  94春之特别篇\n",
      "6418    世界奇妙物语  94冬之特别篇\n",
      "Name: name, dtype: object 6407       世界奇妙物语/看过的电视剧/日语标签/日剧/日本/世にも奇妙な物語/2005/SP\n",
      "6410      世界奇妙物语/日剧/柏原崇/日本/世にも奇妙な物語/看过的电视剧/日语标签/日剧SP\n",
      "6411       世界奇妙物语/日剧/看过的电视剧/日语标签/日本/世にも奇妙な物語/日剧SP/SP\n",
      "6412      世界奇妙物语/日剧/日本/世にも奇妙な物語/看过的电视剧/日语标签/1998/电视剧\n",
      "6413    世界奇妙物语/日剧/日本/世にも奇妙な物語/铃木保奈美/1996/看过的电视剧/日剧SP\n",
      "6414      世界奇妙物语/日剧/日本/世にも奇妙な物語/1995/日剧SP/电视剧/看过的电视剧\n",
      "6415      世界奇妙物语/日剧/日本/木村拓哉/世にも奇妙な物語/电视剧/日剧SP/看过的电视剧\n",
      "6416        世界奇妙物语/日剧/日本/世にも奇妙な物語/看过的电视剧/日语标签/电视剧/SP\n",
      "6417      世界奇妙物语/日本/日剧/世にも奇妙な物語/看过的电视剧/日语标签/电视剧/日剧SP\n",
      "6418        世界奇妙物语/日剧/日本/世にも奇妙な物語/电视剧/1994/SP/看过的电视剧\n",
      "Name: label, dtype: object\n"
     ]
    }
   ],
   "source": [
    "tokenizer = Tokenizer(num_words=1000)\n",
    "\n",
    "synopsis_model2 ='奇幻'\n",
    "\n",
    "synopsis_model2 = ' '.join(jieba.cut(synopsis_model2))\n",
    "sequence_model2 = tokenizer.texts_to_sequences([synopsis_model2])\n",
    "padded_sequence_model2 = pad_sequences(sequence_model2, maxlen=50)\n",
    "\n",
    "pred = model2.predict(padded_sequence_model2)\n",
    "\n",
    "pred_class = np.argmax(pred)\n",
    "\n",
    "predicted_label = df[df['lables'] == pred_class][:10]\n",
    "\n",
    "print('预测的电影为:')\n",
    "print( predicted_label['name'],predicted_label['label'])"
   ]
  },
  {
   "cell_type": "code",
   "execution_count": null,
   "metadata": {
    "id": "QbSw8veG1wMl"
   },
   "outputs": [],
   "source": []
  },
  {
   "cell_type": "code",
   "execution_count": 67,
   "metadata": {
    "id": "-N5JzIf-9A5T"
   },
   "outputs": [],
   "source": [
    "model2.save('/content/drive/MyDrive/ITproject/lstm_model.h5')"
   ]
  },
  {
   "cell_type": "code",
   "execution_count": 68,
   "metadata": {
    "colab": {
     "base_uri": "https://localhost:8080/",
     "height": 472
    },
    "id": "Icew7a739Dne",
    "outputId": "c3c6e458-a168-4439-cf96-1fd8f027a031"
   },
   "outputs": [
    {
     "data": {
      "image/png": "[encoded data removed]",
      "text/plain": [
       "<Figure size 640x480 with 1 Axes>"
      ]
     },
     "metadata": {},
     "output_type": "display_data"
    }
   ],
   "source": [
    "plt.plot(history1.history['accuracy'], label='cnn')\n",
    "plt.plot(history.history['accuracy'], label='lstm')\n",
    "plt.title('cnn and lstm')\n",
    "plt.xlabel('Epoch')\n",
    "plt.ylabel('Loss')\n",
    "plt.legend()\n",
    "plt.show()"
   ]
  },
  {
   "cell_type": "code",
   "execution_count": null,
   "metadata": {
    "id": "AqZoWaAzaLZE"
   },
   "outputs": [],
   "source": []
  }
 ],
 "metadata": {
  "accelerator": "GPU",
  "colab": {
   "gpuType": "T4",
   "provenance": []
  },
  "gpuClass": "standard",
  "kernelspec": {
   "display_name": "Python 3",
   "language": "python",
   "name": "python3"
  },
  "language_info": {
   "codemirror_mode": {
    "name": "ipython",
    "version": 3
   },
   "file_extension": ".py",
   "mimetype": "text/x-python",
   "name": "python",
   "nbconvert_exporter": "python",
   "pygments_lexer": "ipython3",
   "version": "3.7.3"
  }
 },
 "nbformat": 4,
 "nbformat_minor": 5
}
