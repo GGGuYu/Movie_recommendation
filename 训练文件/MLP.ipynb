{
 "cells": [
  {
   "cell_type": "code",
   "execution_count": 2,
   "metadata": {
    "executionInfo": {
     "elapsed": 3018,
     "status": "ok",
     "timestamp": 1683767289612,
     "user": {
      "displayName": "guyu yang",
      "userId": "01094380672381216621"
     },
     "user_tz": -480
    },
    "id": "gkvoa_y_rGuV"
   },
   "outputs": [],
   "source": [
    "#导包\n",
    "%matplotlib inline\n",
    "import random\n",
    "import torch\n",
    "import pandas as pd\n",
    "import numpy as np\n",
    "from sklearn.model_selection import train_test_split\n",
    "from sklearn.metrics import r2_score\n",
    "from sklearn.metrics import r2_score, mean_squared_error\n",
    "import warnings\n",
    "from torch import nn\n",
    "import matplotlib.pyplot as plt\n",
    "import jieba\n",
    "from collections import Counter\n",
    "import torch.nn.functional as F"
   ]
  },
  {
   "cell_type": "code",
   "execution_count": 3,
   "metadata": {
    "executionInfo": {
     "elapsed": 2,
     "status": "ok",
     "timestamp": 1683767289612,
     "user": {
      "displayName": "guyu yang",
      "userId": "01094380672381216621"
     },
     "user_tz": -480
    },
    "id": "-YfI16-Krk-n"
   },
   "outputs": [],
   "source": [
    "# 读取CSV文件\n",
    "def bad_line(x):\n",
    "    print(x)\n",
    "    return None\n",
    "df = pd.read_csv('/content/drive/MyDrive/ITNewTech/movie_lable.csv', engine='python',encoding='utf-8',on_bad_lines=bad_line ,skip_blank_lines=True)\n",
    "\n",
    "# 删除重复项\n",
    "df = df.drop_duplicates()\n",
    "\n",
    "# 填充缺失值\n",
    "df = df.fillna('无')"
   ]
  },
  {
   "cell_type": "code",
   "execution_count": 4,
   "metadata": {
    "colab": {
     "base_uri": "https://localhost:8080/"
    },
    "executionInfo": {
     "elapsed": 473,
     "status": "ok",
     "timestamp": 1683767304466,
     "user": {
      "displayName": "guyu yang",
      "userId": "01094380672381216621"
     },
     "user_tz": -480
    },
    "id": "FfhOwWmbr4F8",
    "outputId": "bdde2915-2ffe-467a-8581-949aa583edcd"
   },
   "outputs": [
    {
     "name": "stdout",
     "output_type": "stream",
     "text": [
      "            name            director  rating category  duration    tag  lables\n",
      "0  哈利·波特与阿兹卡班的囚徒              阿方索·卡隆     8.5    剧情/奇幻       141   哈利波特     553\n",
      "1           霸王别姬                 陈凯歌     9.6    剧情/爱情       171     经典     274\n",
      "2          青木瓜之味                 陈英雄     7.8    剧情/爱情       104     越南    1421\n",
      "3             乡愁           安德烈·塔可夫斯基     9.0    剧情/单一       125  塔可夫斯基     509\n",
      "4          云上的日子  米开朗基罗·安东尼奥尼/维姆·文德斯     7.7    剧情/爱情       105     法国    1774\n"
     ]
    }
   ],
   "source": [
    "#这里我想因为标签和类别的长度不一样 我想标签都取前两个 类别取前两个 然后分词 类别只有一个的情况就补一个词\n",
    "#然后导演不分词 把导演名字看成一个词\n",
    "#剪裁类型函数\n",
    "def cut_category(category):\n",
    "  num, index = 0, 0\n",
    "  for i in category:\n",
    "    if i == '/':\n",
    "      num += 1\n",
    "    if num == 2:\n",
    "      return category[:index]\n",
    "    index += 1\n",
    "  if num == 0:\n",
    "    return category + str('/单一')\n",
    "  else:\n",
    "    return category \n",
    "#剪裁标签函数\n",
    "def cut_tag(tag):\n",
    "  num, index = 0, 0\n",
    "  for i in tag:\n",
    "    if i == '/':\n",
    "      num += 1\n",
    "    if num == 1:\n",
    "      return tag[:index]\n",
    "    index += 1\n",
    "  return tag\n",
    "  \n",
    "# print(df.head(2))\n",
    "#通过该模型，做一个有标号的训练集\n",
    "df_list = np.array(df).tolist() #直接把源文件转化成一个list准备添加标号\n",
    "cnt = 0\n",
    "#处理所有的类型和标签\n",
    "for i in df_list:\n",
    "  i[3] = cut_category(i[3])\n",
    "  i[5] = cut_tag(i[5])\n",
    "  # print(i[3])\n",
    "  # print(i[5])\n",
    "  cnt += 1\n",
    "#list重新转换成df\n",
    "df = pd.DataFrame(df_list, columns=['name', 'director',  'rating', 'category', 'duration', 'tag' ,'lables'])\n",
    "\n",
    "print(df.head(5))"
   ]
  },
  {
   "cell_type": "code",
   "execution_count": 5,
   "metadata": {
    "colab": {
     "base_uri": "https://localhost:8080/"
    },
    "executionInfo": {
     "elapsed": 1057,
     "status": "ok",
     "timestamp": 1683767308959,
     "user": {
      "displayName": "guyu yang",
      "userId": "01094380672381216621"
     },
     "user_tz": -480
    },
    "id": "Dtkx5wNasao_",
    "outputId": "4d8ef911-87b8-4aa2-f6d9-6c67d61c3050"
   },
   "outputs": [
    {
     "name": "stderr",
     "output_type": "stream",
     "text": [
      "Building prefix dict from the default dictionary ...\n",
      "DEBUG:jieba:Building prefix dict from the default dictionary ...\n",
      "Loading model from cache /tmp/jieba.cache\n",
      "DEBUG:jieba:Loading model from cache /tmp/jieba.cache\n",
      "Loading model cost 0.762 seconds.\n",
      "DEBUG:jieba:Loading model cost 0.762 seconds.\n",
      "Prefix dict has been built successfully.\n",
      "DEBUG:jieba:Prefix dict has been built successfully.\n"
     ]
    },
    {
     "name": "stdout",
     "output_type": "stream",
     "text": [
      "    tag category  duration  rating\n",
      "0  哈利波特    剧情 奇幻       141     8.5\n",
      "1    经典    剧情 爱情       171     9.6\n",
      "2    越南    剧情 爱情       104     7.8\n",
      "0     553\n",
      "1     274\n",
      "2    1421\n",
      "Name: lables, dtype: int64\n"
     ]
    }
   ],
   "source": [
    "# 分词并过滤停用词\n",
    "stopwords = set(pd.read_csv('/content/drive/MyDrive/ITNewTech/stopwords.txt', sep='\\t', header=None, engine='python',quoting=3,encoding='utf-8')[0])\n",
    "#电影名没用，不分词\n",
    "#导演看成一个词不分词\n",
    "df['category'] = df['category'].apply(lambda x: ' '.join([w for w in jieba.cut(x) if w not in stopwords]))\n",
    "#tag看成一个词\n",
    "\n",
    "# 将电影名称、时长、评分和数字特征组合成新的数据框\n",
    "# word_df = df[['director', 'tag', 'category', 'duration', 'rating']] #这个是去除掉电影名之后的电影属性，因为电影名没啥用\n",
    "word_df = df[['tag', 'category', 'duration', 'rating']] #这个是输入的向量df\n",
    "lables_df = df['lables'] #这是输出df\n",
    "select_df = df[['name','director', 'tag', 'category', 'duration', 'rating','lables']] #这个df是为了到时候好查找电影名\n",
    "\n",
    "print(word_df.head(3))\n",
    "print(lables_df.head(3))"
   ]
  },
  {
   "cell_type": "code",
   "execution_count": 6,
   "metadata": {
    "executionInfo": {
     "elapsed": 459,
     "status": "ok",
     "timestamp": 1683767311000,
     "user": {
      "displayName": "guyu yang",
      "userId": "01094380672381216621"
     },
     "user_tz": -480
    },
    "id": "iVhikkuxtFmB"
   },
   "outputs": [],
   "source": [
    "#将每个电影的属性全部拼成一个分词好的字符串\n",
    "line_df = list() #将每部电影属性 所有有用的词 都搞成一列 存在line_df中\n",
    "select_list = np.array(select_df).tolist()\n",
    "list_df = np.array(word_df).tolist()\n",
    "for i in list(list_df):\n",
    "    line = ''\n",
    "    for j in i:\n",
    "        line += ' '\n",
    "        line += str(j)\n",
    "    line_df.append(line)"
   ]
  },
  {
   "cell_type": "code",
   "execution_count": 7,
   "metadata": {
    "executionInfo": {
     "elapsed": 2,
     "status": "ok",
     "timestamp": 1683767311486,
     "user": {
      "displayName": "guyu yang",
      "userId": "01094380672381216621"
     },
     "user_tz": -480
    },
    "id": "uL8Su0F0tZjR"
   },
   "outputs": [],
   "source": [
    "# 分词并统计词频\n",
    "#重新写分词函数\n",
    "#拆一行的函数\n",
    "def split_movie(line):\n",
    "  res = []\n",
    "  j = 0\n",
    "  length = len(line)\n",
    "  for i in range(length):\n",
    "    if line[j] == ' ':\n",
    "      j += 1\n",
    "      continue\n",
    "    if line[i] == ' ' or i == length:\n",
    "      res.append(line[j:i])\n",
    "      j = i\n",
    "  res.append(line[-3:])\n",
    "  return res\n",
    "\n",
    "\n",
    "words = []\n",
    "for line in line_df:\n",
    "    # words += jieba.cut(line)\n",
    "    #手动分词\n",
    "    word_list = split_movie(line)\n",
    "    for word in word_list:\n",
    "      words.append(word)\n",
    "word_freq = Counter(words)"
   ]
  },
  {
   "cell_type": "code",
   "execution_count": 8,
   "metadata": {
    "colab": {
     "base_uri": "https://localhost:8080/"
    },
    "executionInfo": {
     "elapsed": 3,
     "status": "ok",
     "timestamp": 1683767313676,
     "user": {
      "displayName": "guyu yang",
      "userId": "01094380672381216621"
     },
     "user_tz": -480
    },
    "id": "Wgn9YID-tjtO",
    "outputId": "e8028342-21aa-4b6b-c483-f9f39a9aee4d"
   },
   "outputs": [
    {
     "name": "stdout",
     "output_type": "stream",
     "text": [
      "['哈利波特', '剧情', '奇幻', '141', '8.5', '经典', '剧情', '爱情', '171', '9.6']\n"
     ]
    }
   ],
   "source": [
    "print(words[:10])"
   ]
  },
  {
   "cell_type": "code",
   "execution_count": 9,
   "metadata": {
    "executionInfo": {
     "elapsed": 2,
     "status": "ok",
     "timestamp": 1683767314125,
     "user": {
      "displayName": "guyu yang",
      "userId": "01094380672381216621"
     },
     "user_tz": -480
    },
    "id": "4KvOnZSKtlSG"
   },
   "outputs": [],
   "source": [
    "vocab_size = 1510 # 设定词汇表大小 理论上来讲 每部电影4个词加上评分和数字应该6个 10000条电影 60000个词 但是很多重复的 所以 取6500个\n",
    "vocab = [\"<PAD>\", \"<UNK>\"] + [word for word, _ in word_freq.most_common(vocab_size - 2)]\n",
    "word_to_idx = {word: idx for idx, word in enumerate(vocab)}\n",
    "idx_to_word = {idx: word for word, idx in word_to_idx.items()}"
   ]
  },
  {
   "cell_type": "code",
   "execution_count": 10,
   "metadata": {
    "colab": {
     "base_uri": "https://localhost:8080/"
    },
    "executionInfo": {
     "elapsed": 515,
     "status": "ok",
     "timestamp": 1683767316493,
     "user": {
      "displayName": "guyu yang",
      "userId": "01094380672381216621"
     },
     "user_tz": -480
    },
    "id": "UpPB4F5ntnLk",
    "outputId": "7fa934b1-0248-4f92-fb1c-1d45b202c6f0"
   },
   "outputs": [
    {
     "name": "stdout",
     "output_type": "stream",
     "text": [
      "['<PAD>', '<UNK>', '剧情', '单一', '喜剧', '爱情', '动画', '美国', '动作', '7.5', '7.4', '7.3', '7.2', '7.6', '0', '7.7', '法国', '7.8', '悬疑', '日本', '7.9', '惊悚', '科幻', '8.0', '8.1', '8.2', '犯罪', '8.3', '音乐', '英国', '90', '7.1', '传记', '家庭', '100', '8.4', '战争', '历史', '8.5', '95', '德国', '105', '96', '110', '8.6', '93', '意大利', '恐怖', '102', '韩国', '98', '奇幻', '120', '92', '97', '103', '104', '歌舞', '94', '107', '8.7', '115', '108', '101', '同性', '106', '印度', '89', '91', '8.8', '113', '99', '香港', '英剧', '88', '118', '111', '85', '112', '109', '西班牙', '8.9', '117', '114', '116', '短片', '125', '87', '119', '86', '9.0', '冒险', '124', '台湾', '80', '130', '123', '126', '122', '121', '俄罗斯', 'OVA', '83', '9.1', '84', '50', '128', '75', '儿童', '24', '127', '82', '9.2', '日本电影', '129', '日剧', '运动', '二战', '伊朗', '青春', '纪录片', '西部', '国产动画', '25', '132', '133', '励志', '加拿大', '武侠', '134', '中国电影', '140', '瑞典', '74', '60', '81', '135', '澳大利亚', '丹麦', '日本动画', '默片', '78', '9.4', '150', '泰国', '山田洋次', '9.3', '76', '139', '138', '巴西', '136', '137', '131', '韩国电影', '剧场版', '144', '79', '情色', '邵氏', '戏曲', '30', '70', '成濑巳喜男', '黑色幽默', '73', '阿加莎·克里斯蒂', '哆啦A梦', '72', '捷克', '古装', '45', '亲情', '143', '77', '世界奇妙物语', '音乐剧', '老电影', '68', '印度电影', '灾难', '145', '人性', '张国荣', '希区柯克', '中国', '女性', '142', '146', '9.5', '奥特曼', '特摄', '名著改编', '黑泽明', '爱尔兰', '英格玛·伯格曼', '波兰', '71', '180', '48', 'SNL', '155', '歌剧', '148', '阿根廷', '65', '46', '鲁邦三世', '22', '深作欣二', '法国电影', '55', '以色列', '141', '170', '67', '59', '160', '莎士比亚', '台湾电影', '28', '秀兰·邓波儿', '54', '69', '美国电影', '墨西哥', '李翰祥', '正大剧场', '小津安二郎', '黑帮', '157', '沟口健二', '电影', 'BBC', '宗教', '147', '63', '香港电影', '52', '宫崎骏', '伍迪·艾伦', '成龙', '动物', '北野武', '黑色', '苏联', '152', '土耳其', '葡萄牙', '47', '12', '27', '40', '15', '10', '柯南', '舞台艺术', '153', '163', '64', '周星驰', '芬兰', '海贼王', '文艺', '161', '同志', 'JohnnyDepp', '罗马尼亚', '20', '魔幻', '23', '51', '独立电影', '经典', '侯孝贤', '168', '奥黛丽·赫本', '法律', '西藏', '无', '26', '动画短片', '5', '堺雅人', '泰国电影', '芭比系列', '11', '154', '169', 'WoodyAllen', '156', '吸血鬼', '172', '183', '三池崇史', '162', '张彻', '狗狗', '200', '美剧', '木下惠介', '49', 'Live', '推理', 'DC', '29', '21', '16', '真人秀', '日剧SP', 'NTLive', '押井守', '151', '149', '178', '让·雷诺阿', '今村昌平', '葛丽泰·嘉宝', '66', '胡金铨', '政治', '格鲁吉亚', '210', '匈牙利', '吉田喜重', '温情', '小栗旬', '18', '17', '57', '44', '文革', '53', '240', '7', '8', '脱口秀', '61', '暴力', '心理', '梁朝伟', '159', '西部片', '成长', 'ColinFirth', '176', '周润发', '张曼玉', '尼古拉斯·凯奇', '大岛渚', '美食', 'AlanRickman', '165', '福尔摩斯', '175', '越剧', '冈本喜八', '14', 'DoctorWho', '公路', '动漫', 'OAD', '9.6', '190', '杨德昌', '体育', '186', '杜琪峰', '174', '摇滚', '185', '徐克', '刘德华', '古惑仔', '56', '179', 'DylanMoran', '洪尚秀', '芭蕾', '非洲', '小田切让', '挪威', '苍井优', '朱石麟', '4', '信仰', '13', '假面骑士', '真实事件改编', '6', '山口百惠', '谢晋', '科恩兄弟', '南斯拉夫', '张艺谋', '陈果', '史诗', '007', '李连杰', '李小龙', '吴宇森', '希腊', '188', 'RiverPhoenix', '黑色电影', '62', '冯小刚', '市川昆', '张爱玲', '张艾嘉', '小林正树', '五社英雄', '童年回忆', '158', '彭浩翔', '167', '舞蹈', '金城武', '冰岛', '187', '广末凉子', '童年', '黄子华', '手塚治虫', '大陆', '58', '上野树里', '宫崎葵', '颁奖典礼', '农村', '新疆', '智利', '耽美', '天海祐希', '黎巴嫩', '围棋', '高达', '李若彤', '王小帅', '贾樟柯', '高仓健', '193', '王家卫', '216', '192', '间谍', '阿尔·帕西诺', '大卫·林奇', '卓别林', '史泰龙', '吕克·贝松', '猫', '姜文', 'RalphFiennes', '184', '刘青云', '南非', '比利时', '奥地利', '吴镇宇', '谢飞', '张石川', '173', '哥伦比亚', '寺山修司', '金基德', '阿富汗', '乌拉圭', 'Cult', '石挥', '王尔德', '人生', '35', '古巴', '新海诚', '196', '宁浩', '9', '阿部宽', '金田一耕助', '瑞士', '43', '百合', '空の境界', 'DavidTennant', '朱一龙', '舞台剧', '综艺', '小戏骨', '171', '海明威', '陈凯歌', '202', 'KeanuReeves', '194', '212', '安哲罗普洛斯', '181', 'EthanHawke', '梁家辉', '林青霞', '金融', 'ChristianBale', '荷兰', 'TimRoth', '周迅', 'Les', '黄秋生', '208', '王祖贤', '关锦鹏', 'Beatles', '克拉克·盖博', '182', '昆汀·塔伦蒂诺', '林正英', '177', '突尼斯', '新藤兼人', '新西兰', '友情', '国产老片', '童话', '龚雪', '葛优', '李萍倩', '老舍', '孙瑜', '梅艳芳', '宁瀛', '安藤政信', '迪士尼', '陈奕迅', '197', '铃木清顺', '41', '清水宏', '红楼梦', '164', '若松孝二', '夏梦', '蒙古', 'clamp', '伊藤英明', 'AndrewScott', '3', 'JudeLaw', 'MV', '样板戏', '19', '玉木宏', 'live', '攻壳机动队', '二宫和也', '34', '阿米尔·汗', '演唱会', '佐藤健', '城市猎人', '黄轩', 'LIVE', '钟汉良', '京剧', '丧尸', '光之美少女', '龙珠', '妖精的尾巴', 'BONES', '36', '微电影', '汤浅政明', '太空', '夏目友人帐', '艺术', '国漫', '9.7', '越南', '克林特·伊斯特伍德', '商业', '越狱', '苏菲·玛索', '伊丽莎白·泰勒', '南北战争', '费雯·丽', 'MerylStreep', '篮球', 'JulieAndrews', '丹泽尔·华盛顿', 'LeonardoDiCaprio', '跑步', 'EdwardNorton', 'CULT', '费雯丽', '伊丹十三', '是枝裕和', '陈英雄', '蔡明亮', '帕索里尼', '罗伯特·德尼罗', '195', '217', '英格丽·褒曼', '280', '费里尼', 'AdrienBrody', '马其顿', '梵高', 'GaryOldman', 'NicoleKidman', 'PeterGreenaway', '毛姆', '上海', '黑泽清', '安东尼·霍普金斯', '201', '楚原', '阮玲玉', '罗曼·波兰斯基', '越战', '李沧东', '潘虹', '张学友', '赛车', '摩洛哥', '吉姆·贾木许', '哲学', '王颖', 'EmmaThompson', '尔冬升', '219', '198', '吴念真', '张元', '织田裕二', '竹中直人', '登山', '夏雨', '许鞍华', '三谷幸喜', '我看过的电影', '路易·马勒', '达内兄弟', 'Tango', '吴贻弓', '伦理', '297', 'CateBlanchett', '李政宰', '路学长', '周璇', '英国电影', '李少红', '岩井俊二', '川端康成', '203', '顾长卫', '僵尸', '周杰伦', '浅野忠信', '222', '山下敦弘', '沈浮', '巴勒斯坦', '吴子牛', '筱田正浩', '莱昂纳多·迪卡普里奥', '郑洞天', '父子', '207', '管虎', '甘小二', '木村拓哉', '林权泽', '哈萨克斯坦', '古天乐', '国产', '青山真治', '李行', 'ARASHI', '稻垣浩', '166', 'ZooeyDeschanel', '赵文瑄', '实验', '瑛太', '意大利电影', '基督教', '林秀晶', 'Jazz', 'SarahBrightman', '205', '王志文', '345', '刁亦男', '王全安', 'MadsMikkelsen', '三木聪', '叶念琛', 'ChristinaAguilera', '昆曲', '探险', '206', '黄梅戏', 'EricClapton', '圣经故事', 'BritneySpears', '中国大陆', '迪斯尼', '松隆子', '史东山', '冈田准一', '豫剧', '东野圭吾', '234', '松本清张', '堤真一', '足球', '老挝', '230', 'JamesStewart', '福山雅治', '头文字D', '东方神起', '秘鲁', '江口洋介', 'STUDIO4℃', '刘杰', '感人', '生田斗真', '菲律宾', 'Beyoncé', '中医', '爱沙尼亚', '现实', '31', 'Eminem', '王竞', 'BL', '吉尔吉斯斯坦', '火影忍者', '金秀贤', 'Stand-Up', '山田孝之', '宠物小精灵', '大野智', '37', '魁拔', '32', '蝙蝠侠', '新房昭之', '塞尔维亚', '杨门女将', '留守儿童', '西班牙电影', 'Fate', '农民', '2019', 'Netflix', '日本综艺', '治愈', '哈利波特', '塔可夫斯基', '短片集', '366', '布拉格之恋', '杜拉斯', '189', '229', '237', '侦探', 'MaggieSmith', '261', '赛珍珠', '艾伦·帕克', '梅丽尔·斯特里普', '吴天明', '2pac', '女巫', '爱森斯坦', '她比烟花寂寞', '希腊神话', 'BetteDavis', '玛丽莲·梦露', '好莱坞', 'Taxi', '199', '雷德利·斯科特', '监狱', '格里菲斯', '烧脑', '罗卓瑶', '歌剧魅影', '1950s', '深海巨灵大海龟', '爱你的五种方法', '塚本晋也', 'ClintEastwood', '东京假期', '飞向太阳', 'JeremyIrons', '梁赞诺夫', '约翰·福特', '西德尼谢尔顿', '尤金奥尼尔', '洼冢洋介', '歌舞片', 'MichaelJackson', '南京大屠杀', 'GusVanSant', '普多夫金', '阿涅斯·瓦尔达', '古巴电影', '加勒比海盗', '孟京辉', '海豹人', '木乃伊', 'cult', '飞来的女婿', '杨凡', '蓝色追杀令', 'AlPacino', '我爱小麻烦', '空战', '娄烨', '哈克贝利费恩历险记', '银河映像', '话剧', '哥特', '重返奥兹国', 'LivTyler', '张泽鸣', '凯瑟琳·赫本', '安吉丽娜·朱莉', '天使的磨难', '城南旧事', '易卜生', '再世人狗缘', '惊栗', '田壮壮', '波姬小丝', '尊龙', '242', '委内瑞拉', 'RobertDeNiro', '吕乐', '1930s', '再生之旅', '陈可辛', '曹文轩', '傲慢与偏见', '电视剧', '鼠王', '奥斯卡最佳外语片', '298', '米家山', '马丁·斯科塞斯', '卡夫卡', 'Chanel', '野村芳太郎', '399', '谢铁骊', '末路狂花', '朴赞郁', '人力资源', '荒诞', '张军钊', '史铁生', '郑则仕', '滕文骥', 'AnneHathaway', '北京', '海伦凯勒', 'HeathLedger', '吴彦祖', '黄磊', '奥黛丽·塔图', '马', '古巴移民', 'RussellCrowe', '李安', '神代辰巳', '大林宣彦', '吉普赛', '毒品', '方育平', '218', '安徒生', '悬念', '273', '贾宏声', '刘若英', 'JaredLeto', '黄蜀芹', '小骑士', '李恩珠', '熊井启', '刘家良', '高尔夫', 'AnnetteBening', 'les', 'ScarlettJohansson', '格瓦拉', '街舞', '陈冲', '安东尼奥尼', '维姆·文德斯', '种族', '藤木直人', '维特根斯坦', '张婉婷', '袁泉', '周防正行', '实验电影', '谭家明', '巨鱼', '全度妍', '450', '奥逊·威尔斯', 'punk', '金·维多', '段奕宏', '自行车', '李玉', '张东健', '张暖忻', 'AudreyTautou', '刘冰鉴', '敕使河原宏', '犬童一心', '彭小莲', '严浩', '赵丹', '50cent', 'AngelinaJolie', 'CliveOwen', '何琳', '大友克洋', '莫妮卡·贝鲁奇', '邓小平', '犬夜叉', '爱国主义', '松本俊夫', '丁丁', '鲁迅', '张国立', '大麻', '256', '狗', '252', '波黑', '时尚', '191', '雅克·贝克', '关中刀客', '375', '戏曲电影', '1984', '相米慎二', '211', '黄渤', '何平', '杨福东', '卜万苍', '卢旺达', '香水', '刘伽茵', '库斯图里卡', 'blur', 'NicholasHoult', '铃木保奈美', '214', '邓超', '裘德·洛', '叙利亚', '克苏鲁', 'DaftPunk', '二战三巨头', '拿破仑', '小池徹平', '宫藤官九郎', '琼瑶', '没有女人的国家', 'EllenPage', '李小冉', '斯大林', '阿拉丁神灯', 'jazz', '北海怪兽', 'YOSHIKI', '森田芳光', 'NormanReedus', '伊丽莎白泰勒', '衣笠贞之助', '陈冠希', '赵本山', '丰田四郎', '弗里茨·朗', '与往事干杯', '250', '安然公司', '358', '心灵', '今敏', 'EddieIzzard', 'EdieSedgwick', '儿童片', '老鹰乐队', 'blues', 'BobDylan', '川本喜八郎', 'AaronEckhart', '郑保瑞', '伊斯兰', '冯小宁', '楠溪江', '鲁宾逊漂流记', '好小子', '新疆片', '最游记', '潘粤明', '张智尧', '对越自卫反击战', 'PaulBettany', 'PinaBausch', '小丸子', '木村カエラ', '简·奥斯汀', 'Elaine_Cassidy', '爱丽斯梦游仙境', '淘金岁月', '反恐', \"GunsN'Roses\", '追风筝的人', '海豚的眼睛', '吕颂贤', '应亮', '雷内·克莱尔', '摄影师', '女性三部曲', '达利', '格里高利·派克', '斯里兰卡', '美少女战士', '黑帮大佬医生梦', '232', 'DakotaFanning', 'GaleHarold', 'JaneSeymour', '七龙珠', '绝技名猩', '张律', '武田真治', '冰上芭蕾', 'MichaelPitt', '神话', 'TildaSwinton', '杨亚洲', '佛教', 'GAINAX', '藤原龙也', '了凡四训', '加州旅馆', '卢正雨', '呼啸山庄（意大利版）', 'KateBush', '法国大革命', '360', '小女巫碧碧', 'sade', 'tattoo', '救赎', 'nirvana', '238', '唐嫣', '郑正秋', 'Enya', 'MariahCarey', '费穆', 'Queen', '滑板', 'TVB', '朱琳', '孙周', '太宰治', 'JaneAusten', '德国电视剧', '斋藤工', '281', '九霄惊魂', 'yeahyeahyeahs', '蜘蛛侠', 'cartoonnetwork', '圣斗士', 'ViggoMortensen', '苏有朋', '小神龙俱乐部', '蔡楚生', '袁牧之', 'JeffBuckley', '暴力反抗机器', '苗族', '尹丽川', '山中贞雄', '最长电影', '5220', '黑塞', '涂鸦', '孙俪', '葡萄酒', '士郎正宗', 'Guitar', 'HughLaurie', '王丹凤', '增村保造', '暖情', '丁善玺', '蔡尚君', '刘天华', '傻逼青年都去死', '柬埔寨童妓', '王莎莎', '西安理工大学', '月亮与六便士', '国产电影', 'Nicholas_Hoult', '李立群', '郁达夫', '王小慧', '支教', 'smap', 'Stand-up', '源氏物语', '无处藏身', '空之境界', '奥匈帝国', '片山刑警在海岛', '片山刑警在山城', '堂本刚', '1920s', 'ClarkGable', '反町隆史', 'JustinTimberlake', '曹禺', 'FredAstaire', 'WillSmith', '全智贤', 'RobertPattinson', 'KristenStewart', 'G3', '客家风情', '菅野美穗', '月亮的孩子', '现代舞', '美人计', '缉毒警', '1951', '志愿者', '筱原凉子', '李灿森', 'TheCranberries', '滑稽戏', '233', '梁沪生', 'KennethBranagh', 'LES', '超级想看国语立体版本的', 'JeremyRenner', 'JodieFoster', 'ChrisBotti', '一鸣惊人', '英语发音，中文字幕', '万梓良', '鬼吹灯', '铁人28号', '车太贤', '272', 'LaurelHolloman', '245', '张骏祥', '程耳', '台剧', '怀旧动画', '宣萱', '击剑', '哥哥树', '聊斋', '#贝克汉姆预告中吐槽贱贱的就是这部', '男鹿和雄', 'KylieMinogue', 'Keane', '戴立忍', '章明', '松本潤', '樱桃小丸子', '海盗', 'ToriAmos', '加濑亮', '泷泽秀明', '笛卡尔', 'LinkinPark', '钱小豪', '三隅研次', '博弈论', '丹麦电影', '赵晔', '比利時', '保加利亚', '梁祝', '熔炉', '邱礼涛', '1940s', '改革开放30年', '霍建起', '约瑟夫·罗西', '斯洛文尼亚', '文章', '帕米尔高原', '苏志燮', '音乐会', '奥斯卡', '胡桃夹子', '契卡', '相叶弘树', '战地记者', 'MichaelSheen', '苏联电影', 'Nickelback', '福尔摩斯复活', '印第安', '二宮和也', 'Alizee', 'KevinSpacey', '李敏镐', '现代芭蕾', '漫威', '松田翔太', '走路上学', '柏原崇', '师生恋', '桂纶镁', '谍战', '云南', '橙色女孩', '旅行', '美国动画', '敦煌', 'Madonna', '行为艺术', '海绵宝宝', '熊', 'DV8', '540', '贵州', '韩剧', '谷原章介', '朴信阳', 'TomHiddleston', '寻找那达慕', '銀魂', '高邮', '苗圃', '岩下志麻', '人间失格', '灵性', '北川景子', '约翰列侬', '大地之恋', '杜汶泽', '莫文蔚', '荻上直子', '小池彻平', '佐罗新冒险', '考古', '1949', '刘晓庆', '高桥留美子', '藏族', '舞蹈史诗', '竹内结子', '水墨', '伊朗电影', '相棒', 'anime', '徐浩峰', 'PaulMcCartney', '静电影', '太阳马戏团', '王菊金', '塞浦路斯', '阿拉伯', '欧美动画', '美人鱼', '好似天堂-丈夫去世后的情感生活', '利物浦', 'AidanGillen', '茜茜公主', '少女时代', 'BenedictCumberbatch', '水晶男孩', '许不了', 'Gundam', '舒浩仑', '33', '大宅门', '李珞', '哈萨克族', '棒球', '崔珉豪', '世博', 'Metallica', '340', '热血高校动画版全集', '拳击', '东之伊甸', '奥丁领域', '现场', '极速倒计时', '西岛秀俊', 'RickyGervais', '阿尔巴尼亚', '宋承宪', '戸田恵梨香', '神州魑魅变', '万玛才旦', '杉田智和', '庵野秀明', '留学', '吉高由里子', '缅甸', '桂林独立电影社', '窪田正孝', '贺来贤人', '高峰', 'AliciaKeys', '魔术', '自闭症儿童', '佛学', '林逸欣', '吴祖光', '仓本聪', 'JenniferAniston', '园子温', '永山绚斗', '黄骥', 'LadyGAGA', '性贩卖、人口贩卖、全球性地下产业', '大同话', '堂本剛', 'AKB48', '留学生', 'ThomasSangster', '虚渊玄', 'MarkGattiss', '陈红', 'DavidGarrett', '教育', '风景很美，人很善良', '传承', '郝杰', '天津', '龙之谷', '西游记', '奧地利', '河正宇', '沙特阿拉伯', '滑头鬼之孙', '香川照之', '1948', '释迦牟尼佛传', '大连话', '性迷宫', 'TopGear', '田村正和', '動畫', 'Animation', '灌装啤酒，我的最爱。', '风流女管家', '刘一君', '建筑', '1', '山崎贤人', 'TimothéeChalamet', '张猛', '中国电影资料馆', '穿过忧伤的花季', '椎名桔平', '魔法少女奈叶', '写实', '张鲁一', '开心超人', '郭富城', 'WWE', '校园电影', '渡边信一郎', '小公主苏菲亚', '我的女神', 'Yanni', 'JamesFranco', '魔法', '环境保护', '220', '詹妮弗·康纳利', '関ジャニ∞', '黑子的篮球', 'EVA', '女权', '独幕剧', 'Charge光之美少女！人偶之国的芭蕾舞者', 'TheBeatles', '张先生和张先生', '易烊千玺', '林心如', '名侦探柯南', 'Coldplay', '2014', '约旦', '伊拉克', '王凯', '真实故事改编', '张娜拉', '游戏王', '大卫·芬奇', '郑大圣', 'Channel4', 'MarkStrong', '笑傲江湖', '张敬轩', '朱航导演', '42', '317', '托尼奖', '柬埔寨', '410', '春晚', '254', '李雪健', '血腥', '北京胡同', '搞笑', '马来西亚', '冲浪', '郭采洁', '343', '六小龄童', '276', '9.8', '数码宝贝', '狙击', 'CG', '星游记', 'JOJO', '寂静岭', '王青', '反腐', '哪吒', '极限挑战', '小泉今日子', '不丹', '互联网', '银魂', '经典翻拍', '灵魂摆渡', 'Orlando_Bloom', '2', '教师', '227', 'NTlive', 'Free!', '我的英雄学院', '校园暴力', '王菲', '今石洋之', '正能量，为人民奉献，', '文化冲突', '母爱', '全金属狂潮', '郝蕾', '芭比', '进击的巨人', '270', '宫廷', '物语系列', '巴拉圭', '吴世勋', '伊藤健太郎', '人生思考', '松坂桃李', '切尔诺贝利', '木心', '长泽雅美', '白俄罗斯', '现实主义', '小松菜奈', '咲太骚话', '乌克兰', '反转', '蜡笔小新剧场版', '林遣都', '芭蕾舞', 'IU', '松重丰', 'FIRST青年电影展', '巴西电影', '宇多田光']\n",
      "1510\n",
      "1504\n"
     ]
    }
   ],
   "source": [
    "print(vocab)\n",
    "print(vocab_size)\n",
    "print(len(vocab))"
   ]
  },
  {
   "cell_type": "code",
   "execution_count": 11,
   "metadata": {
    "executionInfo": {
     "elapsed": 2,
     "status": "ok",
     "timestamp": 1683767316946,
     "user": {
      "displayName": "guyu yang",
      "userId": "01094380672381216621"
     },
     "user_tz": -480
    },
    "id": "4ymLuD-8tph7"
   },
   "outputs": [],
   "source": [
    "# 将电影数据转换为数字序列\n",
    "max_len = 5 # 设定最大序列长度 每部电影最大50个词\n",
    "data_num_seqs = []\n",
    "#将一行电影拆开成一个个词 做成一个向量\n",
    "\n",
    "for line in line_df:\n",
    "    line_words = split_movie(line)\n",
    "    seq = [word_to_idx.get(word, 1) for word in line_words][:max_len]\n",
    "    seq += [0] * (max_len - len(seq))\n",
    "    data_num_seqs.append(seq)"
   ]
  },
  {
   "cell_type": "code",
   "execution_count": 12,
   "metadata": {
    "colab": {
     "base_uri": "https://localhost:8080/"
    },
    "executionInfo": {
     "elapsed": 4,
     "status": "ok",
     "timestamp": 1683767318127,
     "user": {
      "displayName": "guyu yang",
      "userId": "01094380672381216621"
     },
     "user_tz": -480
    },
    "id": "e5tCuiaRtrJE",
    "outputId": "470194f7-b8fb-405d-c038-2fb79849ac70"
   },
   "outputs": [
    {
     "name": "stdout",
     "output_type": "stream",
     "text": [
      "[[760, 2, 51, 213, 38], [273, 2, 5, 489, 362], [576, 2, 5, 56, 17], [761, 2, 3, 86, 90], [16, 2, 5, 41, 15], [16, 2, 5, 86, 24], [19, 2, 6, 86, 146], [762, 2, 5, 39, 27], [6, 4, 6, 94, 60], [311, 2, 22, 34, 103]]\n"
     ]
    }
   ],
   "source": [
    "print(data_num_seqs[:10])"
   ]
  },
  {
   "cell_type": "code",
   "execution_count": 13,
   "metadata": {
    "colab": {
     "base_uri": "https://localhost:8080/"
    },
    "executionInfo": {
     "elapsed": 2,
     "status": "ok",
     "timestamp": 1683767319168,
     "user": {
      "displayName": "guyu yang",
      "userId": "01094380672381216621"
     },
     "user_tz": -480
    },
    "id": "EyxHio17tuNx",
    "outputId": "6175e4e6-bd6e-427b-c3a9-e9d90083e4cf"
   },
   "outputs": [
    {
     "name": "stdout",
     "output_type": "stream",
     "text": [
      "tensor([[760.,   2.,  51., 213.,  38.],\n",
      "        [273.,   2.,   5., 489., 362.],\n",
      "        [576.,   2.,   5.,  56.,  17.],\n",
      "        [761.,   2.,   3.,  86.,  90.],\n",
      "        [ 16.,   2.,   5.,  41.,  15.]])\n",
      "torch.Size([9996, 5])\n"
     ]
    }
   ],
   "source": [
    "X = torch.tensor(data_num_seqs).float() #所有的输入特征 张量\n",
    "print(X[:5])\n",
    "print(X.shape)"
   ]
  },
  {
   "cell_type": "code",
   "execution_count": 14,
   "metadata": {
    "colab": {
     "base_uri": "https://localhost:8080/"
    },
    "executionInfo": {
     "elapsed": 4,
     "status": "ok",
     "timestamp": 1683767320687,
     "user": {
      "displayName": "guyu yang",
      "userId": "01094380672381216621"
     },
     "user_tz": -480
    },
    "id": "86ljt5x7uKI6",
    "outputId": "72d6cfac-0e2e-4d3b-b5ad-a1109929f14f"
   },
   "outputs": [
    {
     "name": "stdout",
     "output_type": "stream",
     "text": [
      "tensor([ 553,  274, 1421,  509, 1774])\n",
      "torch.Size([9996])\n"
     ]
    }
   ],
   "source": [
    "# Y = torch.tensor(lables_df.values).reshape(-1,1) #所有的输出标号 张量\n",
    "Y = torch.tensor(lables_df.values) #所有的输出标号 张量\n",
    "print(Y[:5])\n",
    "print(Y.shape)"
   ]
  },
  {
   "cell_type": "code",
   "execution_count": null,
   "metadata": {
    "id": "ZRFsqmYpLDjM"
   },
   "outputs": [],
   "source": [
    "# Y = F.one_hot(Y.view(-1), 2500).float() #使用独热函数编码分类"
   ]
  },
  {
   "cell_type": "code",
   "execution_count": 25,
   "metadata": {
    "colab": {
     "base_uri": "https://localhost:8080/"
    },
    "executionInfo": {
     "elapsed": 3,
     "status": "ok",
     "timestamp": 1683768766040,
     "user": {
      "displayName": "guyu yang",
      "userId": "01094380672381216621"
     },
     "user_tz": -480
    },
    "id": "WYtoDMfSvquy",
    "outputId": "5905bdb8-7ee2-4ea2-defc-fff3cf7dfcd5"
   },
   "outputs": [
    {
     "name": "stdout",
     "output_type": "stream",
     "text": [
      "torch.Size([6997, 5]) torch.Size([6997])\n",
      "torch.Size([2999, 5]) torch.Size([2999])\n",
      "tensor([  57, 2025, 2103])\n"
     ]
    }
   ],
   "source": [
    "#划分训练数据与测试数据 7:3\n",
    "\n",
    "train_x, test_x, train_y, test_y = train_test_split(X, Y, test_size=0.3, random_state=10)\n",
    "\n",
    "#打印数据形状\n",
    "print(train_x.size() , train_y.size())\n",
    "print(test_x.size() , test_y.size())\n",
    "print(train_y[:3])"
   ]
  },
  {
   "cell_type": "code",
   "execution_count": 16,
   "metadata": {
    "executionInfo": {
     "elapsed": 423,
     "status": "ok",
     "timestamp": 1683767324617,
     "user": {
      "displayName": "guyu yang",
      "userId": "01094380672381216621"
     },
     "user_tz": -480
    },
    "id": "eVrBa4o7ZUXi"
   },
   "outputs": [],
   "source": [
    "#模型构建\n",
    "#MLP\n",
    "class MLP(nn.Module):\n",
    "    def __init__(self):\n",
    "        super(MLP, self).__init__()\n",
    "        self.fc1 = nn.Linear(5, 100)\n",
    "        self.fc2 = nn.Linear(100, 100)\n",
    "        self.fc3 = nn.Linear(100, 2500)\n",
    "\n",
    "    def forward(self, x):\n",
    "        x = torch.relu(self.fc1(x))\n",
    "        x = torch.relu(self.fc2(x))\n",
    "        x = self.fc3(x)\n",
    "        return x\n",
    "#训练函数\n",
    "def train_model_ch2(model, criterion, optimizer, num_epochs, inputs, true_out):\n",
    "    for epoch in range(num_epochs):\n",
    "        # 前向传播\n",
    "        outputs = model(inputs)\n",
    "\n",
    "        loss = criterion(outputs, true_out)\n",
    "\n",
    "        # 反向传播和优化\n",
    "        optimizer.zero_grad()\n",
    "        loss.backward()\n",
    "        optimizer.step()\n",
    "        if (epoch + 1) % 10 == 0:\n",
    "          # 每个epoch结束后输出损失值\n",
    "          print('Epoch [{}/{}], Loss: {:.4f}'.format(epoch+1, num_epochs, loss.item()))\n",
    "#模型训练\n",
    "mlp = MLP() \n",
    "# criterion = nn.CrossEntropyLoss() #交叉熵损失函数\n",
    "# optimizer = torch.optim.SGD(mlp.parameters(), lr=0.01) #梯度下降"
   ]
  },
  {
   "cell_type": "code",
   "execution_count": 17,
   "metadata": {
    "executionInfo": {
     "elapsed": 585,
     "status": "ok",
     "timestamp": 1683767158214,
     "user": {
      "displayName": "guyu yang",
      "userId": "01094380672381216621"
     },
     "user_tz": -480
    },
    "id": "1XGAnXQI6p70"
   },
   "outputs": [],
   "source": [
    "# model = torch.load('/content/drive/MyDrive/ITNewTech/mlp.pt')\n",
    "criterion = nn.CrossEntropyLoss() #交叉熵损失函数\n",
    "optimizer = torch.optim.Adam(mlp.parameters(), lr=0.03) #梯度下降"
   ]
  },
  {
   "cell_type": "code",
   "execution_count": 39,
   "metadata": {
    "colab": {
     "base_uri": "https://localhost:8080/"
    },
    "executionInfo": {
     "elapsed": 36622,
     "status": "ok",
     "timestamp": 1683769317643,
     "user": {
      "displayName": "guyu yang",
      "userId": "01094380672381216621"
     },
     "user_tz": -480
    },
    "id": "TarPkeUluptU",
    "outputId": "7a3ab5c4-bb50-4bd7-e7ca-f9ab8e0211c6"
   },
   "outputs": [
    {
     "name": "stdout",
     "output_type": "stream",
     "text": [
      "Epoch [10/20], Loss: 1.6317\n",
      "Epoch [20/20], Loss: 1.5460\n"
     ]
    }
   ],
   "source": [
    "num_epochs = 20\n",
    "# print(train_x)\n",
    "# 进行模型训练\n",
    "# train_model_ch2(mlp, criterion, optimizer, num_epochs, train_x, train_y)\n",
    "train_model_ch2(mlp, criterion, optimizer, num_epochs, X, Y)"
   ]
  },
  {
   "cell_type": "code",
   "execution_count": 40,
   "metadata": {
    "executionInfo": {
     "elapsed": 543,
     "status": "ok",
     "timestamp": 1683769353619,
     "user": {
      "displayName": "guyu yang",
      "userId": "01094380672381216621"
     },
     "user_tz": -480
    },
    "id": "PgdZrny6ygPP"
   },
   "outputs": [],
   "source": [
    "def print_loss_acc(model, inputs, true_out):\n",
    "    # 将模型置为评估模式\n",
    "    model.eval()\n",
    "\n",
    "    # 计算模型损失和正确率\n",
    "    with torch.no_grad():\n",
    "        logits = model(inputs)\n",
    "        loss = F.cross_entropy(logits, true_out)\n",
    "        # true_labels = torch.argmax(true_out, dim=1) # 把独热编码转换回去\n",
    "        _, predicted_labels = torch.max(logits, 1)\n",
    "        accuracy = (predicted_labels == true_out).sum().item() / len(true_out)\n",
    "\n",
    "    # 输出模型损失和正确率\n",
    "    print('Test loss:', loss.item())\n",
    "    print('Test accuracy:', accuracy)"
   ]
  },
  {
   "cell_type": "code",
   "execution_count": 41,
   "metadata": {
    "colab": {
     "base_uri": "https://localhost:8080/"
    },
    "executionInfo": {
     "elapsed": 769,
     "status": "ok",
     "timestamp": 1683769356154,
     "user": {
      "displayName": "guyu yang",
      "userId": "01094380672381216621"
     },
     "user_tz": -480
    },
    "id": "1l55kSpGQHqW",
    "outputId": "a8e30899-70a7-4d23-f274-caf77e244f26"
   },
   "outputs": [
    {
     "name": "stdout",
     "output_type": "stream",
     "text": [
      "Test loss: 1.5012810230255127\n",
      "Test accuracy: 0.6194477791116446\n"
     ]
    }
   ],
   "source": [
    "print_loss_acc(mlp , X, Y)"
   ]
  },
  {
   "cell_type": "code",
   "execution_count": 53,
   "metadata": {
    "executionInfo": {
     "elapsed": 2,
     "status": "ok",
     "timestamp": 1683769410864,
     "user": {
      "displayName": "guyu yang",
      "userId": "01094380672381216621"
     },
     "user_tz": -480
    },
    "id": "sq6IYhl3a6tm"
   },
   "outputs": [],
   "source": [
    "torch.save(mlp, 'mlp.pt')"
   ]
  }
 ],
 "metadata": {
  "accelerator": "GPU",
  "colab": {
   "authorship_tag": "ABX9TyMQAxjHPdK04zNbVbJ4Vt8L",
   "gpuType": "T4",
   "mount_file_id": "1ege3ZpOxF564d8xPBwzxUStmrpvx_sgW",
   "provenance": []
  },
  "gpuClass": "standard",
  "kernelspec": {
   "display_name": "Python 3",
   "language": "python",
   "name": "python3"
  },
  "language_info": {
   "codemirror_mode": {
    "name": "ipython",
    "version": 3
   },
   "file_extension": ".py",
   "mimetype": "text/x-python",
   "name": "python",
   "nbconvert_exporter": "python",
   "pygments_lexer": "ipython3",
   "version": "3.7.3"
  }
 },
 "nbformat": 4,
 "nbformat_minor": 1
}
